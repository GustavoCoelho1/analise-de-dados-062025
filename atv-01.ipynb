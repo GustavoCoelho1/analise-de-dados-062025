{
 "cells": [
  {
   "cell_type": "markdown",
   "id": "5407b523",
   "metadata": {},
   "source": [
    "# Atividade 1 - Prado\n",
    "\n",
    "Gustavo Coelho - GU3054829"
   ]
  },
  {
   "cell_type": "code",
   "execution_count": 30,
   "id": "d0872db8",
   "metadata": {},
   "outputs": [],
   "source": [
    "import pandas as pd"
   ]
  },
  {
   "cell_type": "markdown",
   "id": "5559cf01",
   "metadata": {},
   "source": [
    "## Etapa 1 – Importação e visualização inicial\n",
    "\n",
    "1. Carregue o CSV no Colab com pandas.read_csv().\n",
    "2. Use .head() e .info() para visualizar os dados.\n",
    "3. Verifique se há dados faltantes ou inconsistentes.\n"
   ]
  },
  {
   "cell_type": "code",
   "execution_count": 31,
   "id": "eccc4708",
   "metadata": {},
   "outputs": [
    {
     "data": {
      "application/vnd.microsoft.datawrangler.viewer.v0+json": {
       "columns": [
        {
         "name": "index",
         "rawType": "int64",
         "type": "integer"
        },
        {
         "name": "aluno_id",
         "rawType": "int64",
         "type": "integer"
        },
        {
         "name": "sexo",
         "rawType": "object",
         "type": "string"
        },
        {
         "name": "idade",
         "rawType": "int64",
         "type": "integer"
        },
        {
         "name": "plano",
         "rawType": "object",
         "type": "string"
        },
        {
         "name": "valor_mensal",
         "rawType": "float64",
         "type": "float"
        },
        {
         "name": "tempo_meses",
         "rawType": "int64",
         "type": "integer"
        },
        {
         "name": "academia",
         "rawType": "object",
         "type": "string"
        }
       ],
       "ref": "22a20877-6a2b-47c2-a5c0-5b2a3fc7bb44",
       "rows": [
        [
         "0",
         "100",
         "M",
         "19",
         "Premium",
         "149.9",
         "9",
         "Unidade B"
        ],
        [
         "1",
         "101",
         "M",
         "26",
         "Premium",
         "149.9",
         "4",
         "Unidade E"
        ],
        [
         "2",
         "102",
         "M",
         "55",
         "Intermediário",
         "119.9",
         "2",
         "Unidade A"
        ],
        [
         "3",
         "103",
         "M",
         "31",
         "Básico",
         "89.9",
         "17",
         "Unidade E"
        ],
        [
         "4",
         "104",
         "M",
         "53",
         "Básico",
         "89.9",
         "23",
         "Unidade E"
        ]
       ],
       "shape": {
        "columns": 7,
        "rows": 5
       }
      },
      "text/html": [
       "<div>\n",
       "<style scoped>\n",
       "    .dataframe tbody tr th:only-of-type {\n",
       "        vertical-align: middle;\n",
       "    }\n",
       "\n",
       "    .dataframe tbody tr th {\n",
       "        vertical-align: top;\n",
       "    }\n",
       "\n",
       "    .dataframe thead th {\n",
       "        text-align: right;\n",
       "    }\n",
       "</style>\n",
       "<table border=\"1\" class=\"dataframe\">\n",
       "  <thead>\n",
       "    <tr style=\"text-align: right;\">\n",
       "      <th></th>\n",
       "      <th>aluno_id</th>\n",
       "      <th>sexo</th>\n",
       "      <th>idade</th>\n",
       "      <th>plano</th>\n",
       "      <th>valor_mensal</th>\n",
       "      <th>tempo_meses</th>\n",
       "      <th>academia</th>\n",
       "    </tr>\n",
       "  </thead>\n",
       "  <tbody>\n",
       "    <tr>\n",
       "      <th>0</th>\n",
       "      <td>100</td>\n",
       "      <td>M</td>\n",
       "      <td>19</td>\n",
       "      <td>Premium</td>\n",
       "      <td>149.9</td>\n",
       "      <td>9</td>\n",
       "      <td>Unidade B</td>\n",
       "    </tr>\n",
       "    <tr>\n",
       "      <th>1</th>\n",
       "      <td>101</td>\n",
       "      <td>M</td>\n",
       "      <td>26</td>\n",
       "      <td>Premium</td>\n",
       "      <td>149.9</td>\n",
       "      <td>4</td>\n",
       "      <td>Unidade E</td>\n",
       "    </tr>\n",
       "    <tr>\n",
       "      <th>2</th>\n",
       "      <td>102</td>\n",
       "      <td>M</td>\n",
       "      <td>55</td>\n",
       "      <td>Intermediário</td>\n",
       "      <td>119.9</td>\n",
       "      <td>2</td>\n",
       "      <td>Unidade A</td>\n",
       "    </tr>\n",
       "    <tr>\n",
       "      <th>3</th>\n",
       "      <td>103</td>\n",
       "      <td>M</td>\n",
       "      <td>31</td>\n",
       "      <td>Básico</td>\n",
       "      <td>89.9</td>\n",
       "      <td>17</td>\n",
       "      <td>Unidade E</td>\n",
       "    </tr>\n",
       "    <tr>\n",
       "      <th>4</th>\n",
       "      <td>104</td>\n",
       "      <td>M</td>\n",
       "      <td>53</td>\n",
       "      <td>Básico</td>\n",
       "      <td>89.9</td>\n",
       "      <td>23</td>\n",
       "      <td>Unidade E</td>\n",
       "    </tr>\n",
       "  </tbody>\n",
       "</table>\n",
       "</div>"
      ],
      "text/plain": [
       "   aluno_id sexo  idade          plano  valor_mensal  tempo_meses   academia\n",
       "0       100    M     19        Premium         149.9            9  Unidade B\n",
       "1       101    M     26        Premium         149.9            4  Unidade E\n",
       "2       102    M     55  Intermediário         119.9            2  Unidade A\n",
       "3       103    M     31         Básico          89.9           17  Unidade E\n",
       "4       104    M     53         Básico          89.9           23  Unidade E"
      ]
     },
     "execution_count": 31,
     "metadata": {},
     "output_type": "execute_result"
    }
   ],
   "source": [
    "df = pd.read_csv(\"01. academia_dataset.csv\")\n",
    "\n",
    "df.head()"
   ]
  },
  {
   "cell_type": "code",
   "execution_count": 32,
   "id": "c924a599",
   "metadata": {},
   "outputs": [
    {
     "name": "stdout",
     "output_type": "stream",
     "text": [
      "<class 'pandas.core.frame.DataFrame'>\n",
      "RangeIndex: 100 entries, 0 to 99\n",
      "Data columns (total 7 columns):\n",
      " #   Column        Non-Null Count  Dtype  \n",
      "---  ------        --------------  -----  \n",
      " 0   aluno_id      100 non-null    int64  \n",
      " 1   sexo          100 non-null    object \n",
      " 2   idade         100 non-null    int64  \n",
      " 3   plano         100 non-null    object \n",
      " 4   valor_mensal  100 non-null    float64\n",
      " 5   tempo_meses   100 non-null    int64  \n",
      " 6   academia      100 non-null    object \n",
      "dtypes: float64(1), int64(3), object(3)\n",
      "memory usage: 5.6+ KB\n"
     ]
    }
   ],
   "source": [
    "df.info()"
   ]
  },
  {
   "cell_type": "markdown",
   "id": "62b1222f",
   "metadata": {},
   "source": [
    "Não há dados faltantes!"
   ]
  },
  {
   "cell_type": "markdown",
   "id": "0095c824",
   "metadata": {},
   "source": [
    "## Etapa 2 – Agrupamento por unidade\n",
    "\n",
    "Objetivo: Descobrir qual unidade tem mais alunos e maior receita\n",
    "1. Agrupe por academia usando .groupby().\n",
    "2. Gere uma tabela com:\n",
    "- Quantidade de alunos\n",
    "- Receita total (valor_mensal * tempo_meses)"
   ]
  },
  {
   "cell_type": "code",
   "execution_count": 33,
   "id": "7d80e53c",
   "metadata": {},
   "outputs": [
    {
     "name": "stdout",
     "output_type": "stream",
     "text": [
      "Quantidade de alunos por academia:\n"
     ]
    },
    {
     "data": {
      "application/vnd.microsoft.datawrangler.viewer.v0+json": {
       "columns": [
        {
         "name": "academia",
         "rawType": "object",
         "type": "string"
        },
        {
         "name": "0",
         "rawType": "int64",
         "type": "integer"
        }
       ],
       "ref": "68caac55-75c6-4e0a-bcc3-1bcfb64df5e7",
       "rows": [
        [
         "Unidade A",
         "17"
        ],
        [
         "Unidade B",
         "20"
        ],
        [
         "Unidade C",
         "21"
        ],
        [
         "Unidade D",
         "22"
        ],
        [
         "Unidade E",
         "20"
        ]
       ],
       "shape": {
        "columns": 1,
        "rows": 5
       }
      },
      "text/plain": [
       "academia\n",
       "Unidade A    17\n",
       "Unidade B    20\n",
       "Unidade C    21\n",
       "Unidade D    22\n",
       "Unidade E    20\n",
       "dtype: int64"
      ]
     },
     "execution_count": 33,
     "metadata": {},
     "output_type": "execute_result"
    }
   ],
   "source": [
    "df_por_academia = df.groupby(\"academia\").size()\n",
    "\n",
    "print(\"Quantidade de alunos por academia:\")\n",
    "\n",
    "df_por_academia"
   ]
  },
  {
   "cell_type": "code",
   "execution_count": 76,
   "id": "9082ecbc",
   "metadata": {},
   "outputs": [
    {
     "data": {
      "application/vnd.microsoft.datawrangler.viewer.v0+json": {
       "columns": [
        {
         "name": "index",
         "rawType": "int64",
         "type": "integer"
        },
        {
         "name": "academia",
         "rawType": "object",
         "type": "string"
        },
        {
         "name": "receita_total",
         "rawType": "float64",
         "type": "float"
        }
       ],
       "ref": "edd4872a-699d-41ed-ba12-0180d9fb7054",
       "rows": [
        [
         "2",
         "Unidade C",
         "34020.5"
        ],
        [
         "4",
         "Unidade E",
         "30154.000000000004"
        ],
        [
         "3",
         "Unidade D",
         "28564.000000000004"
        ],
        [
         "1",
         "Unidade B",
         "25269.100000000002"
        ],
        [
         "0",
         "Unidade A",
         "24758.9"
        ]
       ],
       "shape": {
        "columns": 2,
        "rows": 5
       }
      },
      "text/html": [
       "<div>\n",
       "<style scoped>\n",
       "    .dataframe tbody tr th:only-of-type {\n",
       "        vertical-align: middle;\n",
       "    }\n",
       "\n",
       "    .dataframe tbody tr th {\n",
       "        vertical-align: top;\n",
       "    }\n",
       "\n",
       "    .dataframe thead th {\n",
       "        text-align: right;\n",
       "    }\n",
       "</style>\n",
       "<table border=\"1\" class=\"dataframe\">\n",
       "  <thead>\n",
       "    <tr style=\"text-align: right;\">\n",
       "      <th></th>\n",
       "      <th>academia</th>\n",
       "      <th>receita_total</th>\n",
       "    </tr>\n",
       "  </thead>\n",
       "  <tbody>\n",
       "    <tr>\n",
       "      <th>2</th>\n",
       "      <td>Unidade C</td>\n",
       "      <td>34020.5</td>\n",
       "    </tr>\n",
       "    <tr>\n",
       "      <th>4</th>\n",
       "      <td>Unidade E</td>\n",
       "      <td>30154.0</td>\n",
       "    </tr>\n",
       "    <tr>\n",
       "      <th>3</th>\n",
       "      <td>Unidade D</td>\n",
       "      <td>28564.0</td>\n",
       "    </tr>\n",
       "    <tr>\n",
       "      <th>1</th>\n",
       "      <td>Unidade B</td>\n",
       "      <td>25269.1</td>\n",
       "    </tr>\n",
       "    <tr>\n",
       "      <th>0</th>\n",
       "      <td>Unidade A</td>\n",
       "      <td>24758.9</td>\n",
       "    </tr>\n",
       "  </tbody>\n",
       "</table>\n",
       "</div>"
      ],
      "text/plain": [
       "    academia  receita_total\n",
       "2  Unidade C        34020.5\n",
       "4  Unidade E        30154.0\n",
       "3  Unidade D        28564.0\n",
       "1  Unidade B        25269.1\n",
       "0  Unidade A        24758.9"
      ]
     },
     "execution_count": 76,
     "metadata": {},
     "output_type": "execute_result"
    }
   ],
   "source": [
    "df[\"receita_total\"] = df[\"valor_mensal\"] * df[\"tempo_meses\"]\n",
    "\n",
    "df_receita_academia = df.groupby(\"academia\")[\"receita_total\"].sum().reset_index()\n",
    "\n",
    "df_receita_academia.sort_values(by=\"receita_total\", ascending=False, inplace=True)\n",
    "\n",
    "df_receita_academia"
   ]
  },
  {
   "cell_type": "markdown",
   "id": "68f53908",
   "metadata": {},
   "source": [
    "Tirando uma prova real dos valores acima"
   ]
  },
  {
   "cell_type": "code",
   "execution_count": 35,
   "id": "32cc7e9c",
   "metadata": {},
   "outputs": [
    {
     "data": {
      "text/plain": [
       "np.float64(24758.9)"
      ]
     },
     "execution_count": 35,
     "metadata": {},
     "output_type": "execute_result"
    }
   ],
   "source": [
    "df.loc[df[\"academia\"] == \"Unidade A\", \"receita_total\"].sum()"
   ]
  },
  {
   "cell_type": "markdown",
   "id": "8721d3e0",
   "metadata": {},
   "source": [
    "# Etapa 3 – Análise por plano de assinatura\n",
    "Objetivo: Avaliar o desempenho de cada tipo de plano\n",
    "1. Agrupe por plano e gere:\n",
    "- Número de alunos por plano\n",
    "- Receita total por plano\n",
    "- Tempo médio de permanência\n",
    "\n"
   ]
  },
  {
   "cell_type": "code",
   "execution_count": 37,
   "id": "41269759",
   "metadata": {},
   "outputs": [
    {
     "name": "stdout",
     "output_type": "stream",
     "text": [
      "Dados por plano:\n"
     ]
    },
    {
     "data": {
      "application/vnd.microsoft.datawrangler.viewer.v0+json": {
       "columns": [
        {
         "name": "plano",
         "rawType": "object",
         "type": "string"
        },
        {
         "name": "quantidade_alunos",
         "rawType": "int64",
         "type": "integer"
        },
        {
         "name": "total_receita",
         "rawType": "float64",
         "type": "float"
        },
        {
         "name": "media_tempo_permanencia",
         "rawType": "float64",
         "type": "float"
        }
       ],
       "ref": "cdcff4b2-701e-4fa7-aa2c-9075de1b0a52",
       "rows": [
        [
         "Básico",
         "41",
         "47916.700000000004",
         "13.0"
        ],
        [
         "Intermediário",
         "33",
         "41485.4",
         "10.484848484848484"
        ],
        [
         "Premium",
         "26",
         "53364.4",
         "13.692307692307692"
        ]
       ],
       "shape": {
        "columns": 3,
        "rows": 3
       }
      },
      "text/html": [
       "<div>\n",
       "<style scoped>\n",
       "    .dataframe tbody tr th:only-of-type {\n",
       "        vertical-align: middle;\n",
       "    }\n",
       "\n",
       "    .dataframe tbody tr th {\n",
       "        vertical-align: top;\n",
       "    }\n",
       "\n",
       "    .dataframe thead th {\n",
       "        text-align: right;\n",
       "    }\n",
       "</style>\n",
       "<table border=\"1\" class=\"dataframe\">\n",
       "  <thead>\n",
       "    <tr style=\"text-align: right;\">\n",
       "      <th></th>\n",
       "      <th>quantidade_alunos</th>\n",
       "      <th>total_receita</th>\n",
       "      <th>media_tempo_permanencia</th>\n",
       "    </tr>\n",
       "    <tr>\n",
       "      <th>plano</th>\n",
       "      <th></th>\n",
       "      <th></th>\n",
       "      <th></th>\n",
       "    </tr>\n",
       "  </thead>\n",
       "  <tbody>\n",
       "    <tr>\n",
       "      <th>Básico</th>\n",
       "      <td>41</td>\n",
       "      <td>47916.7</td>\n",
       "      <td>13.000000</td>\n",
       "    </tr>\n",
       "    <tr>\n",
       "      <th>Intermediário</th>\n",
       "      <td>33</td>\n",
       "      <td>41485.4</td>\n",
       "      <td>10.484848</td>\n",
       "    </tr>\n",
       "    <tr>\n",
       "      <th>Premium</th>\n",
       "      <td>26</td>\n",
       "      <td>53364.4</td>\n",
       "      <td>13.692308</td>\n",
       "    </tr>\n",
       "  </tbody>\n",
       "</table>\n",
       "</div>"
      ],
      "text/plain": [
       "               quantidade_alunos  total_receita  media_tempo_permanencia\n",
       "plano                                                                   \n",
       "Básico                        41        47916.7                13.000000\n",
       "Intermediário                 33        41485.4                10.484848\n",
       "Premium                       26        53364.4                13.692308"
      ]
     },
     "execution_count": 37,
     "metadata": {},
     "output_type": "execute_result"
    }
   ],
   "source": [
    "df_por_plano = (\n",
    "    df.groupby(\"plano\")\n",
    "    .agg({\"aluno_id\": \"count\", \"receita_total\": \"sum\", \"tempo_meses\": \"mean\"})\n",
    "    .rename(\n",
    "        columns={\n",
    "            \"aluno_id\": \"quantidade_alunos\",\n",
    "            \"receita_total\": \"total_receita\",\n",
    "            \"tempo_meses\": \"media_tempo_permanencia\",\n",
    "        }\n",
    "    )\n",
    ")\n",
    "\n",
    "print(\"Dados por plano:\")\n",
    "df_por_plano"
   ]
  },
  {
   "cell_type": "code",
   "execution_count": 78,
   "id": "46ef119b",
   "metadata": {},
   "outputs": [
    {
     "name": "stdout",
     "output_type": "stream",
     "text": [
      "Ranking de planos por valor médio (mais lucrativos):\n"
     ]
    },
    {
     "data": {
      "application/vnd.microsoft.datawrangler.viewer.v0+json": {
       "columns": [
        {
         "name": "plano",
         "rawType": "object",
         "type": "string"
        },
        {
         "name": "valor_medio_plano",
         "rawType": "float64",
         "type": "float"
        }
       ],
       "ref": "47d92e13-31f8-4a68-8867-181ea64be1fa",
       "rows": [
        [
         "Premium",
         "2052.476923076923"
        ],
        [
         "Intermediário",
         "1257.1333333333334"
        ],
        [
         "Básico",
         "1168.7"
        ]
       ],
       "shape": {
        "columns": 1,
        "rows": 3
       }
      },
      "text/html": [
       "<div>\n",
       "<style scoped>\n",
       "    .dataframe tbody tr th:only-of-type {\n",
       "        vertical-align: middle;\n",
       "    }\n",
       "\n",
       "    .dataframe tbody tr th {\n",
       "        vertical-align: top;\n",
       "    }\n",
       "\n",
       "    .dataframe thead th {\n",
       "        text-align: right;\n",
       "    }\n",
       "</style>\n",
       "<table border=\"1\" class=\"dataframe\">\n",
       "  <thead>\n",
       "    <tr style=\"text-align: right;\">\n",
       "      <th></th>\n",
       "      <th>valor_medio_plano</th>\n",
       "    </tr>\n",
       "    <tr>\n",
       "      <th>plano</th>\n",
       "      <th></th>\n",
       "    </tr>\n",
       "  </thead>\n",
       "  <tbody>\n",
       "    <tr>\n",
       "      <th>Premium</th>\n",
       "      <td>2052.476923</td>\n",
       "    </tr>\n",
       "    <tr>\n",
       "      <th>Intermediário</th>\n",
       "      <td>1257.133333</td>\n",
       "    </tr>\n",
       "    <tr>\n",
       "      <th>Básico</th>\n",
       "      <td>1168.700000</td>\n",
       "    </tr>\n",
       "  </tbody>\n",
       "</table>\n",
       "</div>"
      ],
      "text/plain": [
       "               valor_medio_plano\n",
       "plano                           \n",
       "Premium              2052.476923\n",
       "Intermediário        1257.133333\n",
       "Básico               1168.700000"
      ]
     },
     "execution_count": 78,
     "metadata": {},
     "output_type": "execute_result"
    }
   ],
   "source": [
    "df_por_plano[\"valor_medio_plano\"] = df_por_plano[\"total_receita\"] / df_por_plano[\"quantidade_alunos\"]\n",
    "\n",
    "print(\"Ranking de planos por valor médio (mais lucrativos):\")\n",
    "df_por_plano[[\"valor_medio_plano\"]].sort_values(by=\"valor_medio_plano\", ascending=False)"
   ]
  },
  {
   "cell_type": "markdown",
   "id": "12389c6c",
   "metadata": {},
   "source": [
    "# Etapa 4 – Conclusão e geração de insights\n",
    "Objetivo: Criar uma conclusão com base nos dados agrupados\n",
    "1. Destaque qual plano e qual unidade geram mais receita.\n",
    "2. Identifique o perfil médio dos alunos mais fiéis.\n",
    "3. Responda: há alguma unidade que parece ter desempenho fraco?\n"
   ]
  },
  {
   "cell_type": "code",
   "execution_count": 60,
   "id": "900656cc",
   "metadata": {},
   "outputs": [
    {
     "data": {
      "application/vnd.microsoft.datawrangler.viewer.v0+json": {
       "columns": [
        {
         "name": "('academia', 'plano')",
         "rawType": "object",
         "type": "unknown"
        },
        {
         "name": "total_receita",
         "rawType": "float64",
         "type": "float"
        }
       ],
       "ref": "cf658b54-59a3-449d-a750-62db3c78e96b",
       "rows": [
        [
         "('Unidade E', 'Premium')",
         "13940.7"
        ],
        [
         "('Unidade D', 'Básico')",
         "12406.2"
        ],
        [
         "('Unidade C', 'Intermediário')",
         "11990.0"
        ],
        [
         "('Unidade E', 'Básico')",
         "11417.300000000001"
        ],
        [
         "('Unidade B', 'Premium')",
         "11242.5"
        ],
        [
         "('Unidade C', 'Premium')",
         "11242.5"
        ],
        [
         "('Unidade C', 'Básico')",
         "10788.0"
        ],
        [
         "('Unidade A', 'Premium')",
         "9293.800000000001"
        ],
        [
         "('Unidade D', 'Intermediário')",
         "8512.900000000001"
        ],
        [
         "('Unidade A', 'Intermediário')",
         "8273.1"
        ],
        [
         "('Unidade B', 'Intermediário')",
         "7913.400000000001"
        ],
        [
         "('Unidade D', 'Premium')",
         "7644.900000000001"
        ],
        [
         "('Unidade A', 'Básico')",
         "7192.000000000001"
        ],
        [
         "('Unidade B', 'Básico')",
         "6113.200000000001"
        ],
        [
         "('Unidade E', 'Intermediário')",
         "4796.0"
        ]
       ],
       "shape": {
        "columns": 1,
        "rows": 15
       }
      },
      "text/html": [
       "<div>\n",
       "<style scoped>\n",
       "    .dataframe tbody tr th:only-of-type {\n",
       "        vertical-align: middle;\n",
       "    }\n",
       "\n",
       "    .dataframe tbody tr th {\n",
       "        vertical-align: top;\n",
       "    }\n",
       "\n",
       "    .dataframe thead th {\n",
       "        text-align: right;\n",
       "    }\n",
       "</style>\n",
       "<table border=\"1\" class=\"dataframe\">\n",
       "  <thead>\n",
       "    <tr style=\"text-align: right;\">\n",
       "      <th></th>\n",
       "      <th></th>\n",
       "      <th>total_receita</th>\n",
       "    </tr>\n",
       "    <tr>\n",
       "      <th>academia</th>\n",
       "      <th>plano</th>\n",
       "      <th></th>\n",
       "    </tr>\n",
       "  </thead>\n",
       "  <tbody>\n",
       "    <tr>\n",
       "      <th>Unidade E</th>\n",
       "      <th>Premium</th>\n",
       "      <td>13940.7</td>\n",
       "    </tr>\n",
       "    <tr>\n",
       "      <th>Unidade D</th>\n",
       "      <th>Básico</th>\n",
       "      <td>12406.2</td>\n",
       "    </tr>\n",
       "    <tr>\n",
       "      <th>Unidade C</th>\n",
       "      <th>Intermediário</th>\n",
       "      <td>11990.0</td>\n",
       "    </tr>\n",
       "    <tr>\n",
       "      <th>Unidade E</th>\n",
       "      <th>Básico</th>\n",
       "      <td>11417.3</td>\n",
       "    </tr>\n",
       "    <tr>\n",
       "      <th>Unidade B</th>\n",
       "      <th>Premium</th>\n",
       "      <td>11242.5</td>\n",
       "    </tr>\n",
       "    <tr>\n",
       "      <th rowspan=\"2\" valign=\"top\">Unidade C</th>\n",
       "      <th>Premium</th>\n",
       "      <td>11242.5</td>\n",
       "    </tr>\n",
       "    <tr>\n",
       "      <th>Básico</th>\n",
       "      <td>10788.0</td>\n",
       "    </tr>\n",
       "    <tr>\n",
       "      <th>Unidade A</th>\n",
       "      <th>Premium</th>\n",
       "      <td>9293.8</td>\n",
       "    </tr>\n",
       "    <tr>\n",
       "      <th>Unidade D</th>\n",
       "      <th>Intermediário</th>\n",
       "      <td>8512.9</td>\n",
       "    </tr>\n",
       "    <tr>\n",
       "      <th>Unidade A</th>\n",
       "      <th>Intermediário</th>\n",
       "      <td>8273.1</td>\n",
       "    </tr>\n",
       "    <tr>\n",
       "      <th>Unidade B</th>\n",
       "      <th>Intermediário</th>\n",
       "      <td>7913.4</td>\n",
       "    </tr>\n",
       "    <tr>\n",
       "      <th>Unidade D</th>\n",
       "      <th>Premium</th>\n",
       "      <td>7644.9</td>\n",
       "    </tr>\n",
       "    <tr>\n",
       "      <th>Unidade A</th>\n",
       "      <th>Básico</th>\n",
       "      <td>7192.0</td>\n",
       "    </tr>\n",
       "    <tr>\n",
       "      <th>Unidade B</th>\n",
       "      <th>Básico</th>\n",
       "      <td>6113.2</td>\n",
       "    </tr>\n",
       "    <tr>\n",
       "      <th>Unidade E</th>\n",
       "      <th>Intermediário</th>\n",
       "      <td>4796.0</td>\n",
       "    </tr>\n",
       "  </tbody>\n",
       "</table>\n",
       "</div>"
      ],
      "text/plain": [
       "                         total_receita\n",
       "academia  plano                       \n",
       "Unidade E Premium              13940.7\n",
       "Unidade D Básico               12406.2\n",
       "Unidade C Intermediário        11990.0\n",
       "Unidade E Básico               11417.3\n",
       "Unidade B Premium              11242.5\n",
       "Unidade C Premium              11242.5\n",
       "          Básico               10788.0\n",
       "Unidade A Premium               9293.8\n",
       "Unidade D Intermediário         8512.9\n",
       "Unidade A Intermediário         8273.1\n",
       "Unidade B Intermediário         7913.4\n",
       "Unidade D Premium               7644.9\n",
       "Unidade A Básico                7192.0\n",
       "Unidade B Básico                6113.2\n",
       "Unidade E Intermediário         4796.0"
      ]
     },
     "execution_count": 60,
     "metadata": {},
     "output_type": "execute_result"
    }
   ],
   "source": [
    "df_por_plano_academia = (\n",
    "    df.groupby([\"academia\", \"plano\"])\n",
    "    .agg({\"receita_total\": \"sum\"})\n",
    "    .rename(\n",
    "        columns={\n",
    "            \"receita_total\": \"total_receita\",\n",
    "        }\n",
    "    )\n",
    "    .sort_values(\n",
    "        by=[\"total_receita\"],\n",
    "        ascending=[False],\n",
    "    )\n",
    ")\n",
    "\n",
    "df_por_plano_academia"
   ]
  },
  {
   "cell_type": "markdown",
   "id": "ec579053",
   "metadata": {},
   "source": [
    "A unidade e plano que mais geram receita é a Unidade E com o Plano Premium"
   ]
  },
  {
   "cell_type": "code",
   "execution_count": 44,
   "id": "23103e73",
   "metadata": {},
   "outputs": [
    {
     "name": "stdout",
     "output_type": "stream",
     "text": [
      "Alunos mais fiéis:\n"
     ]
    },
    {
     "data": {
      "application/vnd.microsoft.datawrangler.viewer.v0+json": {
       "columns": [
        {
         "name": "index",
         "rawType": "int64",
         "type": "integer"
        },
        {
         "name": "aluno_id",
         "rawType": "int64",
         "type": "integer"
        },
        {
         "name": "sexo",
         "rawType": "object",
         "type": "string"
        },
        {
         "name": "idade",
         "rawType": "int64",
         "type": "integer"
        },
        {
         "name": "plano",
         "rawType": "object",
         "type": "string"
        },
        {
         "name": "valor_mensal",
         "rawType": "float64",
         "type": "float"
        },
        {
         "name": "tempo_meses",
         "rawType": "int64",
         "type": "integer"
        },
        {
         "name": "academia",
         "rawType": "object",
         "type": "string"
        },
        {
         "name": "receita_total",
         "rawType": "float64",
         "type": "float"
        }
       ],
       "ref": "b32a77b4-143c-4a1a-83ab-af4befb51b2e",
       "rows": [
        [
         "43",
         "143",
         "M",
         "52",
         "Básico",
         "89.9",
         "24",
         "Unidade E",
         "2157.6000000000004"
        ],
        [
         "46",
         "146",
         "F",
         "44",
         "Intermediário",
         "119.9",
         "24",
         "Unidade A",
         "2877.6000000000004"
        ],
        [
         "47",
         "147",
         "M",
         "21",
         "Intermediário",
         "119.9",
         "24",
         "Unidade C",
         "2877.6000000000004"
        ],
        [
         "55",
         "155",
         "F",
         "45",
         "Premium",
         "149.9",
         "24",
         "Unidade E",
         "3597.6000000000004"
        ],
        [
         "96",
         "196",
         "F",
         "60",
         "Básico",
         "89.9",
         "24",
         "Unidade C",
         "2157.6000000000004"
        ]
       ],
       "shape": {
        "columns": 8,
        "rows": 5
       }
      },
      "text/html": [
       "<div>\n",
       "<style scoped>\n",
       "    .dataframe tbody tr th:only-of-type {\n",
       "        vertical-align: middle;\n",
       "    }\n",
       "\n",
       "    .dataframe tbody tr th {\n",
       "        vertical-align: top;\n",
       "    }\n",
       "\n",
       "    .dataframe thead th {\n",
       "        text-align: right;\n",
       "    }\n",
       "</style>\n",
       "<table border=\"1\" class=\"dataframe\">\n",
       "  <thead>\n",
       "    <tr style=\"text-align: right;\">\n",
       "      <th></th>\n",
       "      <th>aluno_id</th>\n",
       "      <th>sexo</th>\n",
       "      <th>idade</th>\n",
       "      <th>plano</th>\n",
       "      <th>valor_mensal</th>\n",
       "      <th>tempo_meses</th>\n",
       "      <th>academia</th>\n",
       "      <th>receita_total</th>\n",
       "    </tr>\n",
       "  </thead>\n",
       "  <tbody>\n",
       "    <tr>\n",
       "      <th>43</th>\n",
       "      <td>143</td>\n",
       "      <td>M</td>\n",
       "      <td>52</td>\n",
       "      <td>Básico</td>\n",
       "      <td>89.9</td>\n",
       "      <td>24</td>\n",
       "      <td>Unidade E</td>\n",
       "      <td>2157.6</td>\n",
       "    </tr>\n",
       "    <tr>\n",
       "      <th>46</th>\n",
       "      <td>146</td>\n",
       "      <td>F</td>\n",
       "      <td>44</td>\n",
       "      <td>Intermediário</td>\n",
       "      <td>119.9</td>\n",
       "      <td>24</td>\n",
       "      <td>Unidade A</td>\n",
       "      <td>2877.6</td>\n",
       "    </tr>\n",
       "    <tr>\n",
       "      <th>47</th>\n",
       "      <td>147</td>\n",
       "      <td>M</td>\n",
       "      <td>21</td>\n",
       "      <td>Intermediário</td>\n",
       "      <td>119.9</td>\n",
       "      <td>24</td>\n",
       "      <td>Unidade C</td>\n",
       "      <td>2877.6</td>\n",
       "    </tr>\n",
       "    <tr>\n",
       "      <th>55</th>\n",
       "      <td>155</td>\n",
       "      <td>F</td>\n",
       "      <td>45</td>\n",
       "      <td>Premium</td>\n",
       "      <td>149.9</td>\n",
       "      <td>24</td>\n",
       "      <td>Unidade E</td>\n",
       "      <td>3597.6</td>\n",
       "    </tr>\n",
       "    <tr>\n",
       "      <th>96</th>\n",
       "      <td>196</td>\n",
       "      <td>F</td>\n",
       "      <td>60</td>\n",
       "      <td>Básico</td>\n",
       "      <td>89.9</td>\n",
       "      <td>24</td>\n",
       "      <td>Unidade C</td>\n",
       "      <td>2157.6</td>\n",
       "    </tr>\n",
       "  </tbody>\n",
       "</table>\n",
       "</div>"
      ],
      "text/plain": [
       "    aluno_id sexo  idade          plano  valor_mensal  tempo_meses   academia  \\\n",
       "43       143    M     52         Básico          89.9           24  Unidade E   \n",
       "46       146    F     44  Intermediário         119.9           24  Unidade A   \n",
       "47       147    M     21  Intermediário         119.9           24  Unidade C   \n",
       "55       155    F     45        Premium         149.9           24  Unidade E   \n",
       "96       196    F     60         Básico          89.9           24  Unidade C   \n",
       "\n",
       "    receita_total  \n",
       "43         2157.6  \n",
       "46         2877.6  \n",
       "47         2877.6  \n",
       "55         3597.6  \n",
       "96         2157.6  "
      ]
     },
     "execution_count": 44,
     "metadata": {},
     "output_type": "execute_result"
    }
   ],
   "source": [
    "df_alunos_mais_fieis = df[df[\"tempo_meses\"] == df[\"tempo_meses\"].max()]\n",
    "\n",
    "print(\"Alunos mais fiéis:\")\n",
    "df_alunos_mais_fieis"
   ]
  },
  {
   "cell_type": "code",
   "execution_count": 79,
   "id": "3069789f",
   "metadata": {},
   "outputs": [
    {
     "name": "stdout",
     "output_type": "stream",
     "text": [
      "Perfil médio do aluno mais fiel:\n"
     ]
    },
    {
     "data": {
      "application/vnd.microsoft.datawrangler.viewer.v0+json": {
       "columns": [
        {
         "name": "index",
         "rawType": "object",
         "type": "string"
        },
        {
         "name": "0",
         "rawType": "object",
         "type": "unknown"
        }
       ],
       "ref": "3b61b249-72ea-44e5-8644-fbf61609fdb0",
       "rows": [
        [
         "aluno_id",
         "157.4"
        ],
        [
         "idade",
         "44.4"
        ],
        [
         "valor_mensal",
         "113.9"
        ],
        [
         "tempo_meses",
         "24.0"
        ],
        [
         "receita_total",
         "2733.6000000000004"
        ],
        [
         "sexo",
         "F"
        ],
        [
         "plano",
         "Básico"
        ],
        [
         "academia",
         "Unidade C"
        ]
       ],
       "shape": {
        "columns": 1,
        "rows": 8
       }
      },
      "text/plain": [
       "aluno_id             157.4\n",
       "idade                 44.4\n",
       "valor_mensal         113.9\n",
       "tempo_meses           24.0\n",
       "receita_total       2733.6\n",
       "sexo                     F\n",
       "plano               Básico\n",
       "academia         Unidade C\n",
       "dtype: object"
      ]
     },
     "metadata": {},
     "output_type": "display_data"
    }
   ],
   "source": [
    "media_numericos = df_alunos_mais_fieis.select_dtypes(include=\"number\").mean()\n",
    "moda_ncategoricos = df_alunos_mais_fieis.select_dtypes(exclude=\"number\").mode().iloc[0]\n",
    "perfil_medio_aluno_fiel = pd.concat([media_numericos, moda_ncategoricos])\n",
    "\n",
    "print(\"Perfil médio do aluno mais fiel:\")\n",
    "display(perfil_medio_aluno_fiel)\n"
   ]
  },
  {
   "cell_type": "code",
   "execution_count": 71,
   "id": "2f062f36",
   "metadata": {},
   "outputs": [
    {
     "data": {
      "application/vnd.microsoft.datawrangler.viewer.v0+json": {
       "columns": [
        {
         "name": "index",
         "rawType": "object",
         "type": "string"
        },
        {
         "name": "0",
         "rawType": "object",
         "type": "unknown"
        }
       ],
       "ref": "9b1cc723-437d-4441-93fd-e9436bdbb742",
       "rows": [
        [
         "academia",
         "Unidade A"
        ],
        [
         "receita_total",
         "24758.9"
        ]
       ],
       "shape": {
        "columns": 1,
        "rows": 2
       }
      },
      "text/plain": [
       "academia         Unidade A\n",
       "receita_total      24758.9\n",
       "dtype: object"
      ]
     },
     "execution_count": 71,
     "metadata": {},
     "output_type": "execute_result"
    }
   ],
   "source": [
    "df_receita_academia.min()"
   ]
  },
  {
   "cell_type": "markdown",
   "id": "9d89fd25",
   "metadata": {},
   "source": [
    "A unidade que apresenta menor receita é a \"Unidade A\""
   ]
  },
  {
   "cell_type": "markdown",
   "id": "89f3bff5",
   "metadata": {},
   "source": [
    "# Mini relatório"
   ]
  },
  {
   "cell_type": "markdown",
   "id": "a252eb1f",
   "metadata": {},
   "source": [
    "1. Unidades com melhor desempenho:  \n",
    "    As unidades com melhor desempenho monetário foram as:\n",
    "    - Unidade C\t- Receita R$34020,5\n",
    "    - Unidade E\t- Receita R$30154\n",
    "    - Unidade D - Receita R$28564\n",
    "\n",
    "2. Planos mais lucrativos:  \n",
    "    O plano mais lucrativo é Premium, que possui o menor número de usuários (26), e maior receita (R$53.364,4) tendo assim uma receita média total de R$2.052,47 por aluno.\n",
    "\n",
    "3. Perfil do aluno mais fiel:  \n",
    "    O perfil de aluno mais fiel é:\n",
    "    - Idade: 44.4\n",
    "    - Valor_mensal: 113.9\n",
    "    - Tempo_meses: 24.0\n",
    "    - Receita_total: 2733.60\n",
    "    - Sexo: F\n",
    "    - Plano: Básico\n",
    "    - Academia: Unidade C\n",
    "\n",
    "4. Principais aprendizados com agrupamento de dados:  \n",
    "    - O plano básico é o que tem o maior número de alunos, porém é o que gera menos receita total\n",
    "    - Os 3 planos são mais eficientes nessas unidades, respectivamente:\n",
    "      - Premium: Unidade E\n",
    "      - Intemediário: Unidade C\n",
    "      - Básico: Unidade D\n",
    "  \n",
    "5. Sugestões para a rede de academias:  \n",
    "   - Estudar a implementação de um aumento no plano básico, onde o maior número de alunos estão concentrando, visando receita, começando pela unidade B onde esse plano tem menos público\n"
   ]
  }
 ],
 "metadata": {
  "kernelspec": {
   "display_name": "Python 3",
   "language": "python",
   "name": "python3"
  },
  "language_info": {
   "codemirror_mode": {
    "name": "ipython",
    "version": 3
   },
   "file_extension": ".py",
   "mimetype": "text/x-python",
   "name": "python",
   "nbconvert_exporter": "python",
   "pygments_lexer": "ipython3",
   "version": "3.11.3"
  }
 },
 "nbformat": 4,
 "nbformat_minor": 5
}
