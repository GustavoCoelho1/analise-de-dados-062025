{
 "cells": [
  {
   "cell_type": "markdown",
   "id": "26553755",
   "metadata": {},
   "source": [
    "# Atividade 2 - Prado\n",
    "\n",
    "Gustavo Coelho - GU3054829"
   ]
  },
  {
   "cell_type": "code",
   "execution_count": 272,
   "id": "1aed52b2",
   "metadata": {},
   "outputs": [],
   "source": [
    "import pandas as pd\n",
    "import matplotlib.pyplot as plt\n",
    "import numpy as np"
   ]
  },
  {
   "cell_type": "code",
   "execution_count": 274,
   "id": "8a5e46a2",
   "metadata": {},
   "outputs": [],
   "source": [
    "plt.style.use(\n",
    "    \"https://github.com/dhaitz/matplotlib-stylesheets/raw/master/pacoty.mplstyle\"\n",
    ")\n",
    "plt.rcParams[\"font.sans-serif\"] = [\"Century Gothic\", \"sans-serif\"]\n",
    "plt.rcParams[\"axes.titlepad\"] = 20\n",
    "plt.rcParams[\"axes.titleweight\"] = \"bold\"\n",
    "plt.rcParams[\"axes.titlesize\"] = 18"
   ]
  },
  {
   "cell_type": "markdown",
   "id": "c73aea64",
   "metadata": {},
   "source": [
    "## Etapa 1 – Leitura e análise inicial\n",
    "Objetivo: Entender o que os dados representam\n",
    "1. Carregue o arquivo CSV e exiba as 5 primeiras linhas.\n",
    "2. Liste os produtos únicos e os dias da semana presentes no dataset."
   ]
  },
  {
   "cell_type": "code",
   "execution_count": 297,
   "id": "dd153a17",
   "metadata": {},
   "outputs": [
    {
     "data": {
      "application/vnd.microsoft.datawrangler.viewer.v0+json": {
       "columns": [
        {
         "name": "index",
         "rawType": "int64",
         "type": "integer"
        },
        {
         "name": "dia",
         "rawType": "object",
         "type": "string"
        },
        {
         "name": "produto",
         "rawType": "object",
         "type": "string"
        },
        {
         "name": "vendas",
         "rawType": "float64",
         "type": "float"
        },
        {
         "name": "quantidade",
         "rawType": "int64",
         "type": "integer"
        }
       ],
       "ref": "beb6ab43-1de0-4f9a-b83d-9345d67e512d",
       "rows": [
        [
         "0",
         "Sexta",
         "Café Expresso",
         "126.0",
         "14"
        ],
        [
         "1",
         "Quarta",
         "Cappuccino",
         "216.0",
         "18"
        ],
        [
         "2",
         "Domingo",
         "Latte",
         "264.0",
         "24"
        ],
        [
         "3",
         "Sábado",
         "Pão de Queijo",
         "76.0",
         "19"
        ],
        [
         "4",
         "Quinta",
         "Croissant",
         "169.0",
         "26"
        ],
        [
         "5",
         "Terça",
         "Latte",
         "220.0",
         "20"
        ],
        [
         "6",
         "Domingo",
         "Cappuccino",
         "312.0",
         "26"
        ],
        [
         "7",
         "Segunda",
         "Pão de Queijo",
         "84.0",
         "21"
        ],
        [
         "8",
         "Sábado",
         "Latte",
         "165.0",
         "15"
        ],
        [
         "9",
         "Segunda",
         "Cappuccino",
         "312.0",
         "26"
        ],
        [
         "10",
         "Quarta",
         "Cappuccino",
         "360.0",
         "30"
        ],
        [
         "11",
         "Terça",
         "Cappuccino",
         "60.0",
         "5"
        ],
        [
         "12",
         "Segunda",
         "Cappuccino",
         "240.0",
         "20"
        ],
        [
         "13",
         "Sexta",
         "Café Expresso",
         "171.0",
         "19"
        ],
        [
         "14",
         "Quinta",
         "Latte",
         "121.0",
         "11"
        ],
        [
         "15",
         "Sábado",
         "Croissant",
         "130.0",
         "20"
        ],
        [
         "16",
         "Quinta",
         "Cappuccino",
         "108.0",
         "9"
        ],
        [
         "17",
         "Sábado",
         "Café Expresso",
         "261.0",
         "29"
        ],
        [
         "18",
         "Domingo",
         "Café Expresso",
         "261.0",
         "29"
        ],
        [
         "19",
         "Quinta",
         "Cappuccino",
         "120.0",
         "10"
        ],
        [
         "20",
         "Domingo",
         "Latte",
         "209.0",
         "19"
        ],
        [
         "21",
         "Segunda",
         "Latte",
         "132.0",
         "12"
        ],
        [
         "22",
         "Domingo",
         "Café Expresso",
         "171.0",
         "19"
        ],
        [
         "23",
         "Terça",
         "Croissant",
         "169.0",
         "26"
        ],
        [
         "24",
         "Sexta",
         "Latte",
         "264.0",
         "24"
        ],
        [
         "25",
         "Quarta",
         "Croissant",
         "156.0",
         "24"
        ],
        [
         "26",
         "Domingo",
         "Latte",
         "198.0",
         "18"
        ],
        [
         "27",
         "Domingo",
         "Latte",
         "209.0",
         "19"
        ],
        [
         "28",
         "Terça",
         "Croissant",
         "123.5",
         "19"
        ],
        [
         "29",
         "Quarta",
         "Cappuccino",
         "300.0",
         "25"
        ],
        [
         "30",
         "Quarta",
         "Latte",
         "220.0",
         "20"
        ],
        [
         "31",
         "Sábado",
         "Cappuccino",
         "156.0",
         "13"
        ],
        [
         "32",
         "Quinta",
         "Café Expresso",
         "243.0",
         "27"
        ],
        [
         "33",
         "Quarta",
         "Cappuccino",
         "156.0",
         "13"
        ],
        [
         "34",
         "Quarta",
         "Pão de Queijo",
         "88.0",
         "22"
        ],
        [
         "35",
         "Segunda",
         "Cappuccino",
         "108.0",
         "9"
        ],
        [
         "36",
         "Terça",
         "Croissant",
         "175.5",
         "27"
        ],
        [
         "37",
         "Terça",
         "Cappuccino",
         "84.0",
         "7"
        ],
        [
         "38",
         "Quinta",
         "Croissant",
         "97.5",
         "15"
        ],
        [
         "39",
         "Sexta",
         "Croissant",
         "117.0",
         "18"
        ],
        [
         "40",
         "Segunda",
         "Cappuccino",
         "216.0",
         "18"
        ],
        [
         "41",
         "Quinta",
         "Latte",
         "297.0",
         "27"
        ],
        [
         "42",
         "Segunda",
         "Latte",
         "187.0",
         "17"
        ],
        [
         "43",
         "Quinta",
         "Café Expresso",
         "144.0",
         "16"
        ],
        [
         "44",
         "Quarta",
         "Croissant",
         "117.0",
         "18"
        ],
        [
         "45",
         "Sexta",
         "Latte",
         "330.0",
         "30"
        ],
        [
         "46",
         "Sexta",
         "Cappuccino",
         "240.0",
         "20"
        ],
        [
         "47",
         "Terça",
         "Pão de Queijo",
         "72.0",
         "18"
        ],
        [
         "48",
         "Quinta",
         "Café Expresso",
         "153.0",
         "17"
        ],
        [
         "49",
         "Quarta",
         "Croissant",
         "182.0",
         "28"
        ]
       ],
       "shape": {
        "columns": 4,
        "rows": 100
       }
      },
      "text/html": [
       "<div>\n",
       "<style scoped>\n",
       "    .dataframe tbody tr th:only-of-type {\n",
       "        vertical-align: middle;\n",
       "    }\n",
       "\n",
       "    .dataframe tbody tr th {\n",
       "        vertical-align: top;\n",
       "    }\n",
       "\n",
       "    .dataframe thead th {\n",
       "        text-align: right;\n",
       "    }\n",
       "</style>\n",
       "<table border=\"1\" class=\"dataframe\">\n",
       "  <thead>\n",
       "    <tr style=\"text-align: right;\">\n",
       "      <th></th>\n",
       "      <th>dia</th>\n",
       "      <th>produto</th>\n",
       "      <th>vendas</th>\n",
       "      <th>quantidade</th>\n",
       "    </tr>\n",
       "  </thead>\n",
       "  <tbody>\n",
       "    <tr>\n",
       "      <th>0</th>\n",
       "      <td>Sexta</td>\n",
       "      <td>Café Expresso</td>\n",
       "      <td>126.0</td>\n",
       "      <td>14</td>\n",
       "    </tr>\n",
       "    <tr>\n",
       "      <th>1</th>\n",
       "      <td>Quarta</td>\n",
       "      <td>Cappuccino</td>\n",
       "      <td>216.0</td>\n",
       "      <td>18</td>\n",
       "    </tr>\n",
       "    <tr>\n",
       "      <th>2</th>\n",
       "      <td>Domingo</td>\n",
       "      <td>Latte</td>\n",
       "      <td>264.0</td>\n",
       "      <td>24</td>\n",
       "    </tr>\n",
       "    <tr>\n",
       "      <th>3</th>\n",
       "      <td>Sábado</td>\n",
       "      <td>Pão de Queijo</td>\n",
       "      <td>76.0</td>\n",
       "      <td>19</td>\n",
       "    </tr>\n",
       "    <tr>\n",
       "      <th>4</th>\n",
       "      <td>Quinta</td>\n",
       "      <td>Croissant</td>\n",
       "      <td>169.0</td>\n",
       "      <td>26</td>\n",
       "    </tr>\n",
       "    <tr>\n",
       "      <th>...</th>\n",
       "      <td>...</td>\n",
       "      <td>...</td>\n",
       "      <td>...</td>\n",
       "      <td>...</td>\n",
       "    </tr>\n",
       "    <tr>\n",
       "      <th>95</th>\n",
       "      <td>Domingo</td>\n",
       "      <td>Croissant</td>\n",
       "      <td>149.5</td>\n",
       "      <td>23</td>\n",
       "    </tr>\n",
       "    <tr>\n",
       "      <th>96</th>\n",
       "      <td>Sexta</td>\n",
       "      <td>Croissant</td>\n",
       "      <td>97.5</td>\n",
       "      <td>15</td>\n",
       "    </tr>\n",
       "    <tr>\n",
       "      <th>97</th>\n",
       "      <td>Segunda</td>\n",
       "      <td>Croissant</td>\n",
       "      <td>97.5</td>\n",
       "      <td>15</td>\n",
       "    </tr>\n",
       "    <tr>\n",
       "      <th>98</th>\n",
       "      <td>Terça</td>\n",
       "      <td>Croissant</td>\n",
       "      <td>71.5</td>\n",
       "      <td>11</td>\n",
       "    </tr>\n",
       "    <tr>\n",
       "      <th>99</th>\n",
       "      <td>Quarta</td>\n",
       "      <td>Pão de Queijo</td>\n",
       "      <td>60.0</td>\n",
       "      <td>15</td>\n",
       "    </tr>\n",
       "  </tbody>\n",
       "</table>\n",
       "<p>100 rows × 4 columns</p>\n",
       "</div>"
      ],
      "text/plain": [
       "        dia        produto  vendas  quantidade\n",
       "0     Sexta  Café Expresso   126.0          14\n",
       "1    Quarta     Cappuccino   216.0          18\n",
       "2   Domingo          Latte   264.0          24\n",
       "3    Sábado  Pão de Queijo    76.0          19\n",
       "4    Quinta      Croissant   169.0          26\n",
       "..      ...            ...     ...         ...\n",
       "95  Domingo      Croissant   149.5          23\n",
       "96    Sexta      Croissant    97.5          15\n",
       "97  Segunda      Croissant    97.5          15\n",
       "98    Terça      Croissant    71.5          11\n",
       "99   Quarta  Pão de Queijo    60.0          15\n",
       "\n",
       "[100 rows x 4 columns]"
      ]
     },
     "execution_count": 297,
     "metadata": {},
     "output_type": "execute_result"
    }
   ],
   "source": [
    "df = pd.read_csv(\"./02. vendas_cafeteria.csv\")\n",
    "\n",
    "df"
   ]
  },
  {
   "cell_type": "code",
   "execution_count": 276,
   "id": "8ff7151f",
   "metadata": {},
   "outputs": [
    {
     "data": {
      "text/plain": [
       "array(['Café Expresso', 'Cappuccino', 'Latte', 'Pão de Queijo',\n",
       "       'Croissant'], dtype=object)"
      ]
     },
     "execution_count": 276,
     "metadata": {},
     "output_type": "execute_result"
    }
   ],
   "source": [
    "df[\"produto\"].unique()"
   ]
  },
  {
   "cell_type": "code",
   "execution_count": 277,
   "id": "de8885c4",
   "metadata": {},
   "outputs": [],
   "source": [
    "df[\"dia_abreviado\"] = df[\"dia\"].apply(lambda x: x[:3] + \".\")\n"
   ]
  },
  {
   "cell_type": "markdown",
   "id": "968751a4",
   "metadata": {},
   "source": [
    "# Etapa 2 – Análise gráfica diária\n",
    "Objetivo: Avaliar o desempenho por dia da semana\n",
    "1. Use .groupby('dia')['vendas'].sum() para encontrar os dias com mais vendas.\n",
    "2. Crie um gráfico de barras com matplotlib para representar o total de vendas por dia.\n",
    "3. Use cores e rótulos apropriados para facilitar a leitura.\n",
    "\n",
    "\n"
   ]
  },
  {
   "cell_type": "code",
   "execution_count": 278,
   "id": "b2aba135",
   "metadata": {},
   "outputs": [
    {
     "data": {
      "application/vnd.microsoft.datawrangler.viewer.v0+json": {
       "columns": [
        {
         "name": "index",
         "rawType": "int64",
         "type": "integer"
        },
        {
         "name": "dia_abreviado",
         "rawType": "object",
         "type": "string"
        },
        {
         "name": "vendas",
         "rawType": "float64",
         "type": "float"
        }
       ],
       "ref": "d3571c2f-eacb-4727-8234-88785b6b2896",
       "rows": [
        [
         "0",
         "Dom.",
         "2617.0"
        ],
        [
         "1",
         "Qua.",
         "3506.0"
        ],
        [
         "2",
         "Qui.",
         "2347.0"
        ],
        [
         "3",
         "Seg.",
         "2062.5"
        ],
        [
         "4",
         "Sex.",
         "2415.0"
        ],
        [
         "5",
         "Sáb.",
         "1841.0"
        ],
        [
         "6",
         "Ter.",
         "1589.5"
        ]
       ],
       "shape": {
        "columns": 2,
        "rows": 7
       }
      },
      "text/html": [
       "<div>\n",
       "<style scoped>\n",
       "    .dataframe tbody tr th:only-of-type {\n",
       "        vertical-align: middle;\n",
       "    }\n",
       "\n",
       "    .dataframe tbody tr th {\n",
       "        vertical-align: top;\n",
       "    }\n",
       "\n",
       "    .dataframe thead th {\n",
       "        text-align: right;\n",
       "    }\n",
       "</style>\n",
       "<table border=\"1\" class=\"dataframe\">\n",
       "  <thead>\n",
       "    <tr style=\"text-align: right;\">\n",
       "      <th></th>\n",
       "      <th>dia_abreviado</th>\n",
       "      <th>vendas</th>\n",
       "    </tr>\n",
       "  </thead>\n",
       "  <tbody>\n",
       "    <tr>\n",
       "      <th>0</th>\n",
       "      <td>Dom.</td>\n",
       "      <td>2617.0</td>\n",
       "    </tr>\n",
       "    <tr>\n",
       "      <th>1</th>\n",
       "      <td>Qua.</td>\n",
       "      <td>3506.0</td>\n",
       "    </tr>\n",
       "    <tr>\n",
       "      <th>2</th>\n",
       "      <td>Qui.</td>\n",
       "      <td>2347.0</td>\n",
       "    </tr>\n",
       "    <tr>\n",
       "      <th>3</th>\n",
       "      <td>Seg.</td>\n",
       "      <td>2062.5</td>\n",
       "    </tr>\n",
       "    <tr>\n",
       "      <th>4</th>\n",
       "      <td>Sex.</td>\n",
       "      <td>2415.0</td>\n",
       "    </tr>\n",
       "    <tr>\n",
       "      <th>5</th>\n",
       "      <td>Sáb.</td>\n",
       "      <td>1841.0</td>\n",
       "    </tr>\n",
       "    <tr>\n",
       "      <th>6</th>\n",
       "      <td>Ter.</td>\n",
       "      <td>1589.5</td>\n",
       "    </tr>\n",
       "  </tbody>\n",
       "</table>\n",
       "</div>"
      ],
      "text/plain": [
       "  dia_abreviado  vendas\n",
       "0          Dom.  2617.0\n",
       "1          Qua.  3506.0\n",
       "2          Qui.  2347.0\n",
       "3          Seg.  2062.5\n",
       "4          Sex.  2415.0\n",
       "5          Sáb.  1841.0\n",
       "6          Ter.  1589.5"
      ]
     },
     "execution_count": 278,
     "metadata": {},
     "output_type": "execute_result"
    }
   ],
   "source": [
    "vendas_por_dia = df.groupby(\"dia_abreviado\")[\"vendas\"].sum().reset_index()\n",
    "\n",
    "vendas_por_dia"
   ]
  },
  {
   "cell_type": "code",
   "execution_count": 279,
   "id": "3b0333e1",
   "metadata": {},
   "outputs": [],
   "source": [
    "def gera_escala_de_cores(arr, cor=\"azul\"):\n",
    "    norm = plt.Normalize(arr.min(), arr.max())\n",
    "    mapas = {\n",
    "        \"azul\": plt.cm.Blues,\n",
    "        \"vermelho\": plt.cm.Reds,\n",
    "        \"verde\": plt.cm.Greens,\n",
    "        \"cinza\": plt.cm.Greys,\n",
    "    }\n",
    "    if cor not in mapas:\n",
    "        raise ValueError(\"Cor inválida. Use 'azul', 'vermelho', 'verde' ou 'cinza'.\")\n",
    "    return mapas[cor](norm(arr))\n"
   ]
  },
  {
   "cell_type": "code",
   "execution_count": 280,
   "id": "047f70e1",
   "metadata": {},
   "outputs": [],
   "source": [
    "# Ordenar os dias da semana de acordo com a ordem desejada\n",
    "ordem_dias_semana = [\n",
    "    \"Seg.\",\n",
    "    \"Ter.\",\n",
    "    \"Qua.\",\n",
    "    \"Qui.\",\n",
    "    \"Sex.\",\n",
    "    \"Sáb.\",\n",
    "    \"Dom.\",\n",
    "]"
   ]
  },
  {
   "cell_type": "code",
   "execution_count": 281,
   "id": "cffb9eaa",
   "metadata": {},
   "outputs": [],
   "source": [
    "vendas_por_dia = vendas_por_dia.set_index(\"dia_abreviado\")\n",
    "vendas_por_dia = vendas_por_dia.reindex(ordem_dias_semana)\n"
   ]
  },
  {
   "cell_type": "code",
   "execution_count": 282,
   "id": "ba372405",
   "metadata": {},
   "outputs": [
    {
     "data": {
      "image/png": "[encoded data removed]",
      "text/plain": [
       "<Figure size 640x480 with 1 Axes>"
      ]
     },
     "metadata": {},
     "output_type": "display_data"
    }
   ],
   "source": [
    "plt.bar(\n",
    "    vendas_por_dia.index,\n",
    "    vendas_por_dia[\"vendas\"],\n",
    "    edgecolor=\"#c5c5cb\",\n",
    ")\n",
    "plt.title(\"Vendas por dia\")\n",
    "plt.show()"
   ]
  },
  {
   "cell_type": "markdown",
   "id": "0e0a3266",
   "metadata": {},
   "source": [
    "# Etapa 3 – Comparação entre produtos\n",
    "Objetivo: Explorar o desempenho dos produtos\n",
    "1. Agrupe por produto e gere um gráfico de pizza com participação nas vendas totais.\n",
    "2. Em seguida, agrupe por dia, por produto e use um gráfico de barras empilhadas.\n"
   ]
  },
  {
   "cell_type": "code",
   "execution_count": 283,
   "id": "2f8557a0",
   "metadata": {},
   "outputs": [
    {
     "data": {
      "application/vnd.microsoft.datawrangler.viewer.v0+json": {
       "columns": [
        {
         "name": "index",
         "rawType": "int64",
         "type": "integer"
        },
        {
         "name": "produto",
         "rawType": "object",
         "type": "string"
        },
        {
         "name": "vendas",
         "rawType": "float64",
         "type": "float"
        }
       ],
       "ref": "2fe0164d-5ad8-4860-b9de-8780123a09f4",
       "rows": [
        [
         "3",
         "Latte",
         "4587.0"
        ],
        [
         "1",
         "Cappuccino",
         "4104.0"
        ],
        [
         "0",
         "Café Expresso",
         "3528.0"
        ],
        [
         "2",
         "Croissant",
         "3315.0"
        ],
        [
         "4",
         "Pão de Queijo",
         "844.0"
        ]
       ],
       "shape": {
        "columns": 2,
        "rows": 5
       }
      },
      "text/html": [
       "<div>\n",
       "<style scoped>\n",
       "    .dataframe tbody tr th:only-of-type {\n",
       "        vertical-align: middle;\n",
       "    }\n",
       "\n",
       "    .dataframe tbody tr th {\n",
       "        vertical-align: top;\n",
       "    }\n",
       "\n",
       "    .dataframe thead th {\n",
       "        text-align: right;\n",
       "    }\n",
       "</style>\n",
       "<table border=\"1\" class=\"dataframe\">\n",
       "  <thead>\n",
       "    <tr style=\"text-align: right;\">\n",
       "      <th></th>\n",
       "      <th>produto</th>\n",
       "      <th>vendas</th>\n",
       "    </tr>\n",
       "  </thead>\n",
       "  <tbody>\n",
       "    <tr>\n",
       "      <th>3</th>\n",
       "      <td>Latte</td>\n",
       "      <td>4587.0</td>\n",
       "    </tr>\n",
       "    <tr>\n",
       "      <th>1</th>\n",
       "      <td>Cappuccino</td>\n",
       "      <td>4104.0</td>\n",
       "    </tr>\n",
       "    <tr>\n",
       "      <th>0</th>\n",
       "      <td>Café Expresso</td>\n",
       "      <td>3528.0</td>\n",
       "    </tr>\n",
       "    <tr>\n",
       "      <th>2</th>\n",
       "      <td>Croissant</td>\n",
       "      <td>3315.0</td>\n",
       "    </tr>\n",
       "    <tr>\n",
       "      <th>4</th>\n",
       "      <td>Pão de Queijo</td>\n",
       "      <td>844.0</td>\n",
       "    </tr>\n",
       "  </tbody>\n",
       "</table>\n",
       "</div>"
      ],
      "text/plain": [
       "         produto  vendas\n",
       "3          Latte  4587.0\n",
       "1     Cappuccino  4104.0\n",
       "0  Café Expresso  3528.0\n",
       "2      Croissant  3315.0\n",
       "4  Pão de Queijo   844.0"
      ]
     },
     "execution_count": 283,
     "metadata": {},
     "output_type": "execute_result"
    }
   ],
   "source": [
    "vendas_por_produto = df.groupby(\"produto\")[\"vendas\"].sum().reset_index().sort_values(\"vendas\", ascending=False)\n",
    "\n",
    "vendas_por_produto"
   ]
  },
  {
   "cell_type": "code",
   "execution_count": 284,
   "id": "86388af0",
   "metadata": {},
   "outputs": [
    {
     "data": {
      "text/plain": [
       "Text(0.5, 1.0, 'Vendas por produto')"
      ]
     },
     "execution_count": 284,
     "metadata": {},
     "output_type": "execute_result"
    },
    {
     "data": {
      "image/png": "[encoded data removed]",
      "text/plain": [
       "<Figure size 640x480 with 1 Axes>"
      ]
     },
     "metadata": {},
     "output_type": "display_data"
    }
   ],
   "source": [
    "explode = [\n",
    "    0.1 if i == vendas_por_produto[\"vendas\"].idxmax() else 0\n",
    "    for i in vendas_por_produto.index\n",
    "]\n",
    "\n",
    "plt.pie(\n",
    "    vendas_por_produto[\"vendas\"],\n",
    "    labels=vendas_por_produto[\"produto\"], # type: ignore\n",
    "    autopct=\"%1.1f%%\",\n",
    "    explode=explode,\n",
    "    startangle=90,\n",
    "    counterclock=False,\n",
    "    shadow=True,\n",
    ")\n",
    "plt.title(\"Vendas por produto\")\n"
   ]
  },
  {
   "cell_type": "code",
   "execution_count": null,
   "id": "a7cba3c1",
   "metadata": {},
   "outputs": [],
   "source": []
  },
  {
   "cell_type": "code",
   "execution_count": 285,
   "id": "08f6922e",
   "metadata": {},
   "outputs": [
    {
     "data": {
      "application/vnd.microsoft.datawrangler.viewer.v0+json": {
       "columns": [
        {
         "name": "dia_abreviado",
         "rawType": "object",
         "type": "string"
        },
        {
         "name": "Café Expresso",
         "rawType": "float64",
         "type": "float"
        },
        {
         "name": "Cappuccino",
         "rawType": "float64",
         "type": "float"
        },
        {
         "name": "Croissant",
         "rawType": "float64",
         "type": "float"
        },
        {
         "name": "Latte",
         "rawType": "float64",
         "type": "float"
        },
        {
         "name": "Pão de Queijo",
         "rawType": "float64",
         "type": "float"
        }
       ],
       "ref": "9848b5ef-6c04-4704-82b8-69238b55a869",
       "rows": [
        [
         "Dom.",
         "828.0",
         "480.0",
         "429.0",
         "880.0",
         "0.0"
        ],
        [
         "Qua.",
         "189.0",
         "1644.0",
         "533.0",
         "836.0",
         "304.0"
        ],
        [
         "Qui.",
         "747.0",
         "228.0",
         "442.0",
         "814.0",
         "116.0"
        ],
        [
         "Seg.",
         "261.0",
         "1008.0",
         "201.5",
         "440.0",
         "152.0"
        ],
        [
         "Sex.",
         "711.0",
         "240.0",
         "507.0",
         "957.0",
         "0.0"
        ],
        [
         "Sáb.",
         "585.0",
         "252.0",
         "364.0",
         "440.0",
         "200.0"
        ],
        [
         "Ter.",
         "207.0",
         "252.0",
         "838.5",
         "220.0",
         "72.0"
        ]
       ],
       "shape": {
        "columns": 5,
        "rows": 7
       }
      },
      "text/html": [
       "<div>\n",
       "<style scoped>\n",
       "    .dataframe tbody tr th:only-of-type {\n",
       "        vertical-align: middle;\n",
       "    }\n",
       "\n",
       "    .dataframe tbody tr th {\n",
       "        vertical-align: top;\n",
       "    }\n",
       "\n",
       "    .dataframe thead th {\n",
       "        text-align: right;\n",
       "    }\n",
       "</style>\n",
       "<table border=\"1\" class=\"dataframe\">\n",
       "  <thead>\n",
       "    <tr style=\"text-align: right;\">\n",
       "      <th>produto</th>\n",
       "      <th>Café Expresso</th>\n",
       "      <th>Cappuccino</th>\n",
       "      <th>Croissant</th>\n",
       "      <th>Latte</th>\n",
       "      <th>Pão de Queijo</th>\n",
       "    </tr>\n",
       "    <tr>\n",
       "      <th>dia_abreviado</th>\n",
       "      <th></th>\n",
       "      <th></th>\n",
       "      <th></th>\n",
       "      <th></th>\n",
       "      <th></th>\n",
       "    </tr>\n",
       "  </thead>\n",
       "  <tbody>\n",
       "    <tr>\n",
       "      <th>Dom.</th>\n",
       "      <td>828.0</td>\n",
       "      <td>480.0</td>\n",
       "      <td>429.0</td>\n",
       "      <td>880.0</td>\n",
       "      <td>0.0</td>\n",
       "    </tr>\n",
       "    <tr>\n",
       "      <th>Qua.</th>\n",
       "      <td>189.0</td>\n",
       "      <td>1644.0</td>\n",
       "      <td>533.0</td>\n",
       "      <td>836.0</td>\n",
       "      <td>304.0</td>\n",
       "    </tr>\n",
       "    <tr>\n",
       "      <th>Qui.</th>\n",
       "      <td>747.0</td>\n",
       "      <td>228.0</td>\n",
       "      <td>442.0</td>\n",
       "      <td>814.0</td>\n",
       "      <td>116.0</td>\n",
       "    </tr>\n",
       "    <tr>\n",
       "      <th>Seg.</th>\n",
       "      <td>261.0</td>\n",
       "      <td>1008.0</td>\n",
       "      <td>201.5</td>\n",
       "      <td>440.0</td>\n",
       "      <td>152.0</td>\n",
       "    </tr>\n",
       "    <tr>\n",
       "      <th>Sex.</th>\n",
       "      <td>711.0</td>\n",
       "      <td>240.0</td>\n",
       "      <td>507.0</td>\n",
       "      <td>957.0</td>\n",
       "      <td>0.0</td>\n",
       "    </tr>\n",
       "    <tr>\n",
       "      <th>Sáb.</th>\n",
       "      <td>585.0</td>\n",
       "      <td>252.0</td>\n",
       "      <td>364.0</td>\n",
       "      <td>440.0</td>\n",
       "      <td>200.0</td>\n",
       "    </tr>\n",
       "    <tr>\n",
       "      <th>Ter.</th>\n",
       "      <td>207.0</td>\n",
       "      <td>252.0</td>\n",
       "      <td>838.5</td>\n",
       "      <td>220.0</td>\n",
       "      <td>72.0</td>\n",
       "    </tr>\n",
       "  </tbody>\n",
       "</table>\n",
       "</div>"
      ],
      "text/plain": [
       "produto        Café Expresso  Cappuccino  Croissant  Latte  Pão de Queijo\n",
       "dia_abreviado                                                            \n",
       "Dom.                   828.0       480.0      429.0  880.0            0.0\n",
       "Qua.                   189.0      1644.0      533.0  836.0          304.0\n",
       "Qui.                   747.0       228.0      442.0  814.0          116.0\n",
       "Seg.                   261.0      1008.0      201.5  440.0          152.0\n",
       "Sex.                   711.0       240.0      507.0  957.0            0.0\n",
       "Sáb.                   585.0       252.0      364.0  440.0          200.0\n",
       "Ter.                   207.0       252.0      838.5  220.0           72.0"
      ]
     },
     "execution_count": 285,
     "metadata": {},
     "output_type": "execute_result"
    }
   ],
   "source": [
    "vendas_produto_por_dia = df.groupby([\"dia_abreviado\", \"produto\"])[\"vendas\"]\n",
    "vendas_produto_por_dia = vendas_produto_por_dia.sum().unstack().fillna(0)\n",
    "\n",
    "vendas_produto_por_dia"
   ]
  },
  {
   "cell_type": "code",
   "execution_count": 286,
   "id": "2c613280",
   "metadata": {},
   "outputs": [
    {
     "data": {
      "application/vnd.microsoft.datawrangler.viewer.v0+json": {
       "columns": [
        {
         "name": "dia_abreviado",
         "rawType": "object",
         "type": "string"
        },
        {
         "name": "Café Expresso",
         "rawType": "float64",
         "type": "float"
        },
        {
         "name": "Cappuccino",
         "rawType": "float64",
         "type": "float"
        },
        {
         "name": "Croissant",
         "rawType": "float64",
         "type": "float"
        },
        {
         "name": "Latte",
         "rawType": "float64",
         "type": "float"
        },
        {
         "name": "Pão de Queijo",
         "rawType": "float64",
         "type": "float"
        }
       ],
       "ref": "6f955e5b-c1e6-4f10-840f-4fa87e72f1a4",
       "rows": [
        [
         "Seg.",
         "261.0",
         "1008.0",
         "201.5",
         "440.0",
         "152.0"
        ],
        [
         "Ter.",
         "207.0",
         "252.0",
         "838.5",
         "220.0",
         "72.0"
        ],
        [
         "Qua.",
         "189.0",
         "1644.0",
         "533.0",
         "836.0",
         "304.0"
        ],
        [
         "Qui.",
         "747.0",
         "228.0",
         "442.0",
         "814.0",
         "116.0"
        ],
        [
         "Sex.",
         "711.0",
         "240.0",
         "507.0",
         "957.0",
         "0.0"
        ],
        [
         "Sáb.",
         "585.0",
         "252.0",
         "364.0",
         "440.0",
         "200.0"
        ],
        [
         "Dom.",
         "828.0",
         "480.0",
         "429.0",
         "880.0",
         "0.0"
        ]
       ],
       "shape": {
        "columns": 5,
        "rows": 7
       }
      },
      "text/html": [
       "<div>\n",
       "<style scoped>\n",
       "    .dataframe tbody tr th:only-of-type {\n",
       "        vertical-align: middle;\n",
       "    }\n",
       "\n",
       "    .dataframe tbody tr th {\n",
       "        vertical-align: top;\n",
       "    }\n",
       "\n",
       "    .dataframe thead th {\n",
       "        text-align: right;\n",
       "    }\n",
       "</style>\n",
       "<table border=\"1\" class=\"dataframe\">\n",
       "  <thead>\n",
       "    <tr style=\"text-align: right;\">\n",
       "      <th>produto</th>\n",
       "      <th>Café Expresso</th>\n",
       "      <th>Cappuccino</th>\n",
       "      <th>Croissant</th>\n",
       "      <th>Latte</th>\n",
       "      <th>Pão de Queijo</th>\n",
       "    </tr>\n",
       "    <tr>\n",
       "      <th>dia_abreviado</th>\n",
       "      <th></th>\n",
       "      <th></th>\n",
       "      <th></th>\n",
       "      <th></th>\n",
       "      <th></th>\n",
       "    </tr>\n",
       "  </thead>\n",
       "  <tbody>\n",
       "    <tr>\n",
       "      <th>Seg.</th>\n",
       "      <td>261.0</td>\n",
       "      <td>1008.0</td>\n",
       "      <td>201.5</td>\n",
       "      <td>440.0</td>\n",
       "      <td>152.0</td>\n",
       "    </tr>\n",
       "    <tr>\n",
       "      <th>Ter.</th>\n",
       "      <td>207.0</td>\n",
       "      <td>252.0</td>\n",
       "      <td>838.5</td>\n",
       "      <td>220.0</td>\n",
       "      <td>72.0</td>\n",
       "    </tr>\n",
       "    <tr>\n",
       "      <th>Qua.</th>\n",
       "      <td>189.0</td>\n",
       "      <td>1644.0</td>\n",
       "      <td>533.0</td>\n",
       "      <td>836.0</td>\n",
       "      <td>304.0</td>\n",
       "    </tr>\n",
       "    <tr>\n",
       "      <th>Qui.</th>\n",
       "      <td>747.0</td>\n",
       "      <td>228.0</td>\n",
       "      <td>442.0</td>\n",
       "      <td>814.0</td>\n",
       "      <td>116.0</td>\n",
       "    </tr>\n",
       "    <tr>\n",
       "      <th>Sex.</th>\n",
       "      <td>711.0</td>\n",
       "      <td>240.0</td>\n",
       "      <td>507.0</td>\n",
       "      <td>957.0</td>\n",
       "      <td>0.0</td>\n",
       "    </tr>\n",
       "    <tr>\n",
       "      <th>Sáb.</th>\n",
       "      <td>585.0</td>\n",
       "      <td>252.0</td>\n",
       "      <td>364.0</td>\n",
       "      <td>440.0</td>\n",
       "      <td>200.0</td>\n",
       "    </tr>\n",
       "    <tr>\n",
       "      <th>Dom.</th>\n",
       "      <td>828.0</td>\n",
       "      <td>480.0</td>\n",
       "      <td>429.0</td>\n",
       "      <td>880.0</td>\n",
       "      <td>0.0</td>\n",
       "    </tr>\n",
       "  </tbody>\n",
       "</table>\n",
       "</div>"
      ],
      "text/plain": [
       "produto        Café Expresso  Cappuccino  Croissant  Latte  Pão de Queijo\n",
       "dia_abreviado                                                            \n",
       "Seg.                   261.0      1008.0      201.5  440.0          152.0\n",
       "Ter.                   207.0       252.0      838.5  220.0           72.0\n",
       "Qua.                   189.0      1644.0      533.0  836.0          304.0\n",
       "Qui.                   747.0       228.0      442.0  814.0          116.0\n",
       "Sex.                   711.0       240.0      507.0  957.0            0.0\n",
       "Sáb.                   585.0       252.0      364.0  440.0          200.0\n",
       "Dom.                   828.0       480.0      429.0  880.0            0.0"
      ]
     },
     "execution_count": 286,
     "metadata": {},
     "output_type": "execute_result"
    }
   ],
   "source": [
    "vendas_produto_por_dia = vendas_produto_por_dia.reindex(ordem_dias_semana)\n",
    "\n",
    "vendas_produto_por_dia"
   ]
  },
  {
   "cell_type": "code",
   "execution_count": null,
   "id": "e0fd365d",
   "metadata": {},
   "outputs": [],
   "source": [
    "def adiciona_valores_ao_grafico_barras_empilhadas(ax, tabela):\n",
    "    # Adicionar valores centralizados\n",
    "    for i, (_idx, row) in enumerate(tabela.iterrows()):\n",
    "        cumulativo = 0\n",
    "        for produto in tabela.columns:\n",
    "            valor = row[produto]\n",
    "            if valor > 0:\n",
    "                # Posição x da barra, y acumulado até aqui + metade da altura do segmento\n",
    "                x = i\n",
    "                y = cumulativo + valor / 2\n",
    "                ax.text(\n",
    "                    x,\n",
    "                    y,\n",
    "                    f\"{int(valor)}\",\n",
    "                    ha=\"center\",\n",
    "                    va=\"center\",\n",
    "                    color=\"white\",\n",
    "                    fontsize=8,\n",
    "                    fontweight=\"bold\",\n",
    "                )\n",
    "            cumulativo += valor\n"
   ]
  },
  {
   "cell_type": "code",
   "execution_count": 296,
   "id": "b2a8fcb3",
   "metadata": {},
   "outputs": [
    {
     "data": {
      "image/png": "[encoded data removed]",
      "text/plain": [
       "<Figure size 1000x600 with 1 Axes>"
      ]
     },
     "metadata": {},
     "output_type": "display_data"
    }
   ],
   "source": [
    "# Plotar o gráfico de barras empilhadas\n",
    "ax = vendas_produto_por_dia.plot(kind=\"bar\", stacked=True, figsize=(10, 6))\n",
    "\n",
    "adiciona_valores_ao_grafico_barras_empilhadas(ax, vendas_produto_por_dia)\n",
    "\n",
    "plt.title(\"Vendas por Produto ao Longo da Semana\")\n",
    "plt.xlabel(\"\")\n",
    "plt.legend(title=\"\")\n",
    "plt.show()\n"
   ]
  },
  {
   "cell_type": "markdown",
   "id": "5f718106",
   "metadata": {},
   "source": [
    "# Etapa 4 – Geração da narrativa\n",
    "Objetivo: Comunicar os achados de forma clara e estratégica\n",
    "1. Escreva uma “mini-história” com base nas observações dos gráficos.\n",
    "2. Destaque quais dias são mais estratégicos e quais produtos são campeões de venda.\n",
    "3. Sugira duas ações de marketing baseadas nesses padrões.\n"
   ]
  },
  {
   "cell_type": "markdown",
   "id": "bdddd2df",
   "metadata": {},
   "source": [
    "Observando as vendas diárias dos produtos ao longo do tempo podemos tirar algumas conclusões:\n",
    "\n",
    " Nosso produto mais vendido é o Latte juntamente com o Cappucino, que juntos compoem mais de 53% das vendas totais\n",
    "\n",
    "- O dia de maiores vendas da semana é quarta feira, tendo como principal produto disparado o Cappucino.\n",
    "\n",
    "- O produto menos vendido é pão de queijo, aonde na análise de histórico comporam somente 5% das vendas totais (844 vendas, não sendo vendido em nenhum dia de sexta ou de domingo). Croissant, seu concorrente direto não tem esse problema (compõe 20% das vendas totais)\n",
    "\n",
    "- Uma estratégia de marketing interessante é fazermos promoções:\n",
    "  - Quarta: Pão de queijo/Croissant + Cappucino/Latte\n",
    "  - Domingo: Croissant + Latte/Expresso\n",
    "  Essas promoções são interessantes pois atacam os produtos mais vendidos do dia, podendo impulsionar ainda mais as vendas. Nos dias de quarta o pão de queijo se apresenta como uma boa alternativa ao croissant, para o cliente. \n",
    "\n",
    "- Promoções de pão de queijo não são viáveis nos dias de sexta e de domingo\n",
    "\n",
    "  "
   ]
  },
  {
   "cell_type": "markdown",
   "id": "cce6878f",
   "metadata": {},
   "source": [
    "# Mini-Relatório\n",
    "1. Dias mais lucrativos e suas causas:\n",
    "    Os dias mais lucrativos são quarta-feira e domingo. Uma justificativa plausível é que quarta é um dia aonde muitos trabalhadores trabalham presencialmente, e consequentemente consomem mais café. Aos dias de domingo é mais esperado, finais de semana aonde as pessoas tem tempo livre, e o consumo é consequência.\n",
    "\n",
    "2. Produtos com melhor desempenho:\n",
    "    O produto de maior desemepenho é o Latte seguido pelo Cappucino\n",
    "\n",
    "3. Observações visuais relevantes:\n",
    "    - Quarta é o dia mais lucrativo da semana\n",
    "    - Cappucino compõe quase 50% das vendas de Quarta, aonde é justamente seu pico de vendas semanal.\n",
    "    - Latte é o produto mais vendido, e é bem consistente em sua distribuição de vendas pela semana (baixa variância), diferente do cappucino, por exemplo.\n",
    "\n",
    "4. Sugestões de ação:\n",
    "    - Implementar ações de marketing principalmente as quartas e domingo\n",
    "    - Reconsiderar a venda de pães de queijo, que apresenta um baixissimo desempenho\n",
    "\n",
    "5. Aprendizados sobre storytelling com dados:\n",
    "    - A visualização de dados ajuda muito na análise, e também na hora de comunicar os dados de uma base. É indispensável para quem tem interesse em administrar um negócio de maneira consciente e eficiente. Uma ótima maneira de não operar \"no escuro\", você tem mais consciência do que está fazendo\n"
   ]
  }
 ],
 "metadata": {
  "kernelspec": {
   "display_name": "Python 3",
   "language": "python",
   "name": "python3"
  },
  "language_info": {
   "codemirror_mode": {
    "name": "ipython",
    "version": 3
   },
   "file_extension": ".py",
   "mimetype": "text/x-python",
   "name": "python",
   "nbconvert_exporter": "python",
   "pygments_lexer": "ipython3",
   "version": "3.11.3"
  }
 },
 "nbformat": 4,
 "nbformat_minor": 5
}
