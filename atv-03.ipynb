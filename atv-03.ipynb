{
 "cells": [
  {
   "cell_type": "markdown",
   "id": "bdd880a1",
   "metadata": {},
   "source": [
    "# Atividade 3 - Prado\n",
    "\n",
    "Gustavo Coelho - GU3054829"
   ]
  },
  {
   "cell_type": "code",
   "execution_count": 48,
   "id": "034f1a40",
   "metadata": {},
   "outputs": [],
   "source": [
    "import pandas as pd\n",
    "import matplotlib.pyplot as plt\n",
    "import numpy as np\n",
    "import seaborn as sns"
   ]
  },
  {
   "cell_type": "code",
   "execution_count": 49,
   "id": "0a939d69",
   "metadata": {},
   "outputs": [],
   "source": [
    "plt.style.use(\n",
    "    \"https://github.com/dhaitz/matplotlib-stylesheets/raw/master/pacoty.mplstyle\"\n",
    ")\n",
    "plt.rcParams[\"font.sans-serif\"] = [\"Century Gothic\", \"sans-serif\"]\n",
    "plt.rcParams[\"axes.titlepad\"] = 20\n",
    "plt.rcParams[\"axes.titleweight\"] = \"bold\"\n",
    "plt.rcParams[\"axes.titlesize\"] = 18"
   ]
  },
  {
   "cell_type": "markdown",
   "id": "129f1fe6",
   "metadata": {},
   "source": [
    "# Etapa 1 – Exploração inicial\n",
    "Objetivo: Compreender os dados e o contexto\n",
    "1. Carregue o CSV e visualize as primeiras linhas.\n",
    "2. Use .describe() e .info() para inspecionar distribuição e tipos de dados.\n"
   ]
  },
  {
   "cell_type": "code",
   "execution_count": 50,
   "id": "3ee904ed",
   "metadata": {},
   "outputs": [
    {
     "data": {
      "application/vnd.microsoft.datawrangler.viewer.v0+json": {
       "columns": [
        {
         "name": "index",
         "rawType": "int64",
         "type": "integer"
        },
        {
         "name": "usuario_id",
         "rawType": "int64",
         "type": "integer"
        },
        {
         "name": "idade",
         "rawType": "int64",
         "type": "integer"
        },
        {
         "name": "tempo_medio_diario",
         "rawType": "float64",
         "type": "float"
        },
        {
         "name": "num_dispositivos",
         "rawType": "int64",
         "type": "integer"
        },
        {
         "name": "genero",
         "rawType": "object",
         "type": "string"
        }
       ],
       "ref": "704a80f1-42d2-4e69-9c22-24d918ba33ac",
       "rows": [
        [
         "0",
         "1",
         "58",
         "1.8",
         "1",
         "M"
        ],
        [
         "1",
         "2",
         "35",
         "2.4",
         "1",
         "M"
        ],
        [
         "2",
         "3",
         "65",
         "1.9",
         "2",
         "M"
        ],
        [
         "3",
         "4",
         "52",
         "2.4",
         "2",
         "M"
        ],
        [
         "4",
         "5",
         "20",
         "3.3",
         "1",
         "M"
        ],
        [
         "5",
         "6",
         "32",
         "2.3",
         "2",
         "M"
        ],
        [
         "6",
         "7",
         "63",
         "2.4",
         "1",
         "F"
        ],
        [
         "7",
         "8",
         "55",
         "2.0",
         "2",
         "F"
        ],
        [
         "8",
         "9",
         "18",
         "3.0",
         "2",
         "M"
        ],
        [
         "9",
         "10",
         "39",
         "2.9",
         "1",
         "F"
        ],
        [
         "10",
         "11",
         "39",
         "2.1",
         "1",
         "M"
        ],
        [
         "11",
         "12",
         "24",
         "3.0",
         "3",
         "F"
        ],
        [
         "12",
         "13",
         "56",
         "1.6",
         "2",
         "F"
        ],
        [
         "13",
         "14",
         "64",
         "0.5",
         "2",
         "F"
        ],
        [
         "14",
         "15",
         "42",
         "0.5",
         "2",
         "M"
        ],
        [
         "15",
         "16",
         "58",
         "1.2",
         "2",
         "F"
        ],
        [
         "16",
         "17",
         "63",
         "0.9",
         "1",
         "M"
        ],
        [
         "17",
         "18",
         "32",
         "2.8",
         "3",
         "F"
        ],
        [
         "18",
         "19",
         "32",
         "1.8",
         "1",
         "M"
        ],
        [
         "19",
         "20",
         "47",
         "0.7",
         "1",
         "F"
        ],
        [
         "20",
         "21",
         "40",
         "3.7",
         "2",
         "M"
        ],
        [
         "21",
         "22",
         "62",
         "1.4",
         "2",
         "M"
        ],
        [
         "22",
         "23",
         "28",
         "2.6",
         "1",
         "M"
        ],
        [
         "23",
         "24",
         "42",
         "0.6",
         "3",
         "F"
        ],
        [
         "24",
         "25",
         "58",
         "1.2",
         "2",
         "M"
        ],
        [
         "25",
         "26",
         "21",
         "3.6",
         "3",
         "M"
        ],
        [
         "26",
         "27",
         "38",
         "1.6",
         "1",
         "F"
        ],
        [
         "27",
         "28",
         "31",
         "2.8",
         "1",
         "F"
        ],
        [
         "28",
         "29",
         "49",
         "1.1",
         "2",
         "F"
        ],
        [
         "29",
         "30",
         "59",
         "1.3",
         "1",
         "F"
        ],
        [
         "30",
         "31",
         "26",
         "2.0",
         "3",
         "M"
        ],
        [
         "31",
         "32",
         "52",
         "2.6",
         "2",
         "F"
        ],
        [
         "32",
         "33",
         "45",
         "1.5",
         "1",
         "F"
        ],
        [
         "33",
         "34",
         "26",
         "1.7",
         "1",
         "F"
        ],
        [
         "34",
         "35",
         "21",
         "4.3",
         "1",
         "M"
        ],
        [
         "35",
         "36",
         "28",
         "1.5",
         "2",
         "F"
        ],
        [
         "36",
         "37",
         "42",
         "1.6",
         "2",
         "F"
        ],
        [
         "37",
         "38",
         "47",
         "0.5",
         "3",
         "F"
        ],
        [
         "38",
         "39",
         "18",
         "2.2",
         "2",
         "M"
        ],
        [
         "39",
         "40",
         "52",
         "1.6",
         "2",
         "F"
        ],
        [
         "40",
         "41",
         "39",
         "3.1",
         "1",
         "M"
        ],
        [
         "41",
         "42",
         "28",
         "2.6",
         "1",
         "F"
        ],
        [
         "42",
         "43",
         "64",
         "1.4",
         "3",
         "F"
        ],
        [
         "43",
         "44",
         "29",
         "2.3",
         "3",
         "M"
        ],
        [
         "44",
         "45",
         "37",
         "1.3",
         "1",
         "M"
        ],
        [
         "45",
         "46",
         "28",
         "1.9",
         "2",
         "M"
        ],
        [
         "46",
         "47",
         "49",
         "1.2",
         "1",
         "M"
        ],
        [
         "47",
         "48",
         "41",
         "2.1",
         "1",
         "F"
        ],
        [
         "48",
         "49",
         "33",
         "2.8",
         "1",
         "M"
        ],
        [
         "49",
         "50",
         "49",
         "0.5",
         "3",
         "M"
        ]
       ],
       "shape": {
        "columns": 5,
        "rows": 100
       }
      },
      "text/html": [
       "<div>\n",
       "<style scoped>\n",
       "    .dataframe tbody tr th:only-of-type {\n",
       "        vertical-align: middle;\n",
       "    }\n",
       "\n",
       "    .dataframe tbody tr th {\n",
       "        vertical-align: top;\n",
       "    }\n",
       "\n",
       "    .dataframe thead th {\n",
       "        text-align: right;\n",
       "    }\n",
       "</style>\n",
       "<table border=\"1\" class=\"dataframe\">\n",
       "  <thead>\n",
       "    <tr style=\"text-align: right;\">\n",
       "      <th></th>\n",
       "      <th>usuario_id</th>\n",
       "      <th>idade</th>\n",
       "      <th>tempo_medio_diario</th>\n",
       "      <th>num_dispositivos</th>\n",
       "      <th>genero</th>\n",
       "    </tr>\n",
       "  </thead>\n",
       "  <tbody>\n",
       "    <tr>\n",
       "      <th>0</th>\n",
       "      <td>1</td>\n",
       "      <td>58</td>\n",
       "      <td>1.8</td>\n",
       "      <td>1</td>\n",
       "      <td>M</td>\n",
       "    </tr>\n",
       "    <tr>\n",
       "      <th>1</th>\n",
       "      <td>2</td>\n",
       "      <td>35</td>\n",
       "      <td>2.4</td>\n",
       "      <td>1</td>\n",
       "      <td>M</td>\n",
       "    </tr>\n",
       "    <tr>\n",
       "      <th>2</th>\n",
       "      <td>3</td>\n",
       "      <td>65</td>\n",
       "      <td>1.9</td>\n",
       "      <td>2</td>\n",
       "      <td>M</td>\n",
       "    </tr>\n",
       "    <tr>\n",
       "      <th>3</th>\n",
       "      <td>4</td>\n",
       "      <td>52</td>\n",
       "      <td>2.4</td>\n",
       "      <td>2</td>\n",
       "      <td>M</td>\n",
       "    </tr>\n",
       "    <tr>\n",
       "      <th>4</th>\n",
       "      <td>5</td>\n",
       "      <td>20</td>\n",
       "      <td>3.3</td>\n",
       "      <td>1</td>\n",
       "      <td>M</td>\n",
       "    </tr>\n",
       "    <tr>\n",
       "      <th>...</th>\n",
       "      <td>...</td>\n",
       "      <td>...</td>\n",
       "      <td>...</td>\n",
       "      <td>...</td>\n",
       "      <td>...</td>\n",
       "    </tr>\n",
       "    <tr>\n",
       "      <th>95</th>\n",
       "      <td>96</td>\n",
       "      <td>54</td>\n",
       "      <td>0.6</td>\n",
       "      <td>1</td>\n",
       "      <td>M</td>\n",
       "    </tr>\n",
       "    <tr>\n",
       "      <th>96</th>\n",
       "      <td>97</td>\n",
       "      <td>31</td>\n",
       "      <td>2.7</td>\n",
       "      <td>1</td>\n",
       "      <td>F</td>\n",
       "    </tr>\n",
       "    <tr>\n",
       "      <th>97</th>\n",
       "      <td>98</td>\n",
       "      <td>40</td>\n",
       "      <td>2.7</td>\n",
       "      <td>2</td>\n",
       "      <td>M</td>\n",
       "    </tr>\n",
       "    <tr>\n",
       "      <th>98</th>\n",
       "      <td>99</td>\n",
       "      <td>41</td>\n",
       "      <td>1.5</td>\n",
       "      <td>1</td>\n",
       "      <td>F</td>\n",
       "    </tr>\n",
       "    <tr>\n",
       "      <th>99</th>\n",
       "      <td>100</td>\n",
       "      <td>52</td>\n",
       "      <td>1.4</td>\n",
       "      <td>2</td>\n",
       "      <td>F</td>\n",
       "    </tr>\n",
       "  </tbody>\n",
       "</table>\n",
       "<p>100 rows × 5 columns</p>\n",
       "</div>"
      ],
      "text/plain": [
       "    usuario_id  idade  tempo_medio_diario  num_dispositivos genero\n",
       "0            1     58                 1.8                 1      M\n",
       "1            2     35                 2.4                 1      M\n",
       "2            3     65                 1.9                 2      M\n",
       "3            4     52                 2.4                 2      M\n",
       "4            5     20                 3.3                 1      M\n",
       "..         ...    ...                 ...               ...    ...\n",
       "95          96     54                 0.6                 1      M\n",
       "96          97     31                 2.7                 1      F\n",
       "97          98     40                 2.7                 2      M\n",
       "98          99     41                 1.5                 1      F\n",
       "99         100     52                 1.4                 2      F\n",
       "\n",
       "[100 rows x 5 columns]"
      ]
     },
     "execution_count": 50,
     "metadata": {},
     "output_type": "execute_result"
    }
   ],
   "source": [
    "df = pd.read_csv(\"./03. streaming_usuarios.csv\")\n",
    "\n",
    "df"
   ]
  },
  {
   "cell_type": "code",
   "execution_count": 51,
   "id": "5d9d7f6d",
   "metadata": {},
   "outputs": [
    {
     "name": "stdout",
     "output_type": "stream",
     "text": [
      "<class 'pandas.core.frame.DataFrame'>\n",
      "RangeIndex: 100 entries, 0 to 99\n",
      "Data columns (total 5 columns):\n",
      " #   Column              Non-Null Count  Dtype  \n",
      "---  ------              --------------  -----  \n",
      " 0   usuario_id          100 non-null    int64  \n",
      " 1   idade               100 non-null    int64  \n",
      " 2   tempo_medio_diario  100 non-null    float64\n",
      " 3   num_dispositivos    100 non-null    int64  \n",
      " 4   genero              100 non-null    object \n",
      "dtypes: float64(1), int64(3), object(1)\n",
      "memory usage: 4.0+ KB\n"
     ]
    }
   ],
   "source": [
    "df.info()"
   ]
  },
  {
   "cell_type": "code",
   "execution_count": 52,
   "id": "75ada663",
   "metadata": {},
   "outputs": [
    {
     "data": {
      "application/vnd.microsoft.datawrangler.viewer.v0+json": {
       "columns": [
        {
         "name": "index",
         "rawType": "object",
         "type": "string"
        },
        {
         "name": "usuario_id",
         "rawType": "float64",
         "type": "float"
        },
        {
         "name": "idade",
         "rawType": "float64",
         "type": "float"
        },
        {
         "name": "tempo_medio_diario",
         "rawType": "float64",
         "type": "float"
        },
        {
         "name": "num_dispositivos",
         "rawType": "float64",
         "type": "float"
        }
       ],
       "ref": "3e0f7f9a-0b0f-4f0d-a7ec-0219e0fda0cf",
       "rows": [
        [
         "count",
         "100.0",
         "100.0",
         "100.0",
         "100.0"
        ],
        [
         "mean",
         "50.5",
         "40.77",
         "2.113",
         "1.71"
        ],
        [
         "std",
         "29.011491975882016",
         "13.727400159954366",
         "1.024513188166591",
         "0.7288430017583494"
        ],
        [
         "min",
         "1.0",
         "18.0",
         "0.5",
         "1.0"
        ],
        [
         "25%",
         "25.75",
         "29.0",
         "1.4",
         "1.0"
        ],
        [
         "50%",
         "50.5",
         "41.5",
         "1.95",
         "2.0"
        ],
        [
         "75%",
         "75.25",
         "52.0",
         "2.8",
         "2.0"
        ],
        [
         "max",
         "100.0",
         "65.0",
         "4.9",
         "3.0"
        ]
       ],
       "shape": {
        "columns": 4,
        "rows": 8
       }
      },
      "text/html": [
       "<div>\n",
       "<style scoped>\n",
       "    .dataframe tbody tr th:only-of-type {\n",
       "        vertical-align: middle;\n",
       "    }\n",
       "\n",
       "    .dataframe tbody tr th {\n",
       "        vertical-align: top;\n",
       "    }\n",
       "\n",
       "    .dataframe thead th {\n",
       "        text-align: right;\n",
       "    }\n",
       "</style>\n",
       "<table border=\"1\" class=\"dataframe\">\n",
       "  <thead>\n",
       "    <tr style=\"text-align: right;\">\n",
       "      <th></th>\n",
       "      <th>usuario_id</th>\n",
       "      <th>idade</th>\n",
       "      <th>tempo_medio_diario</th>\n",
       "      <th>num_dispositivos</th>\n",
       "    </tr>\n",
       "  </thead>\n",
       "  <tbody>\n",
       "    <tr>\n",
       "      <th>count</th>\n",
       "      <td>100.000000</td>\n",
       "      <td>100.0000</td>\n",
       "      <td>100.000000</td>\n",
       "      <td>100.000000</td>\n",
       "    </tr>\n",
       "    <tr>\n",
       "      <th>mean</th>\n",
       "      <td>50.500000</td>\n",
       "      <td>40.7700</td>\n",
       "      <td>2.113000</td>\n",
       "      <td>1.710000</td>\n",
       "    </tr>\n",
       "    <tr>\n",
       "      <th>std</th>\n",
       "      <td>29.011492</td>\n",
       "      <td>13.7274</td>\n",
       "      <td>1.024513</td>\n",
       "      <td>0.728843</td>\n",
       "    </tr>\n",
       "    <tr>\n",
       "      <th>min</th>\n",
       "      <td>1.000000</td>\n",
       "      <td>18.0000</td>\n",
       "      <td>0.500000</td>\n",
       "      <td>1.000000</td>\n",
       "    </tr>\n",
       "    <tr>\n",
       "      <th>25%</th>\n",
       "      <td>25.750000</td>\n",
       "      <td>29.0000</td>\n",
       "      <td>1.400000</td>\n",
       "      <td>1.000000</td>\n",
       "    </tr>\n",
       "    <tr>\n",
       "      <th>50%</th>\n",
       "      <td>50.500000</td>\n",
       "      <td>41.5000</td>\n",
       "      <td>1.950000</td>\n",
       "      <td>2.000000</td>\n",
       "    </tr>\n",
       "    <tr>\n",
       "      <th>75%</th>\n",
       "      <td>75.250000</td>\n",
       "      <td>52.0000</td>\n",
       "      <td>2.800000</td>\n",
       "      <td>2.000000</td>\n",
       "    </tr>\n",
       "    <tr>\n",
       "      <th>max</th>\n",
       "      <td>100.000000</td>\n",
       "      <td>65.0000</td>\n",
       "      <td>4.900000</td>\n",
       "      <td>3.000000</td>\n",
       "    </tr>\n",
       "  </tbody>\n",
       "</table>\n",
       "</div>"
      ],
      "text/plain": [
       "       usuario_id     idade  tempo_medio_diario  num_dispositivos\n",
       "count  100.000000  100.0000          100.000000        100.000000\n",
       "mean    50.500000   40.7700            2.113000          1.710000\n",
       "std     29.011492   13.7274            1.024513          0.728843\n",
       "min      1.000000   18.0000            0.500000          1.000000\n",
       "25%     25.750000   29.0000            1.400000          1.000000\n",
       "50%     50.500000   41.5000            1.950000          2.000000\n",
       "75%     75.250000   52.0000            2.800000          2.000000\n",
       "max    100.000000   65.0000            4.900000          3.000000"
      ]
     },
     "execution_count": 52,
     "metadata": {},
     "output_type": "execute_result"
    }
   ],
   "source": [
    "df.describe()"
   ]
  },
  {
   "cell_type": "markdown",
   "id": "45aee864",
   "metadata": {},
   "source": [
    "A tabela não tem valores nulos, e não apresenta ter outliers!"
   ]
  },
  {
   "cell_type": "markdown",
   "id": "5be2e907",
   "metadata": {},
   "source": [
    "# Etapa 2 – Medidas estatísticas\n",
    "Objetivo: Avaliar média, mediana e dispersão\n",
    "1. Calcule média e desvio padrão da idade, tempo_medio_diario e num_dispositivos.\n",
    "2. Compare a dispersão entre usuários com menos de 30 anos e mais de 30 anos.\n"
   ]
  },
  {
   "cell_type": "code",
   "execution_count": 53,
   "id": "ee2d0e9c",
   "metadata": {},
   "outputs": [
    {
     "data": {
      "application/vnd.microsoft.datawrangler.viewer.v0+json": {
       "columns": [
        {
         "name": "index",
         "rawType": "int64",
         "type": "integer"
        },
        {
         "name": "usuario_id",
         "rawType": "int64",
         "type": "integer"
        },
        {
         "name": "idade",
         "rawType": "int64",
         "type": "integer"
        },
        {
         "name": "tempo_medio_diario",
         "rawType": "float64",
         "type": "float"
        },
        {
         "name": "num_dispositivos",
         "rawType": "int64",
         "type": "integer"
        },
        {
         "name": "genero",
         "rawType": "object",
         "type": "string"
        }
       ],
       "ref": "624227cb-7f6d-48d2-b668-06b267f4ff36",
       "rows": [
        [
         "4",
         "5",
         "20",
         "3.3",
         "1",
         "M"
        ],
        [
         "8",
         "9",
         "18",
         "3.0",
         "2",
         "M"
        ],
        [
         "11",
         "12",
         "24",
         "3.0",
         "3",
         "F"
        ],
        [
         "22",
         "23",
         "28",
         "2.6",
         "1",
         "M"
        ],
        [
         "25",
         "26",
         "21",
         "3.6",
         "3",
         "M"
        ],
        [
         "30",
         "31",
         "26",
         "2.0",
         "3",
         "M"
        ],
        [
         "33",
         "34",
         "26",
         "1.7",
         "1",
         "F"
        ],
        [
         "34",
         "35",
         "21",
         "4.3",
         "1",
         "M"
        ],
        [
         "35",
         "36",
         "28",
         "1.5",
         "2",
         "F"
        ],
        [
         "38",
         "39",
         "18",
         "2.2",
         "2",
         "M"
        ],
        [
         "41",
         "42",
         "28",
         "2.6",
         "1",
         "F"
        ],
        [
         "43",
         "44",
         "29",
         "2.3",
         "3",
         "M"
        ],
        [
         "45",
         "46",
         "28",
         "1.9",
         "2",
         "M"
        ],
        [
         "58",
         "59",
         "18",
         "3.8",
         "3",
         "M"
        ],
        [
         "59",
         "60",
         "21",
         "4.5",
         "1",
         "M"
        ],
        [
         "60",
         "61",
         "20",
         "3.0",
         "1",
         "F"
        ],
        [
         "65",
         "66",
         "24",
         "4.9",
         "2",
         "F"
        ],
        [
         "67",
         "68",
         "21",
         "4.5",
         "1",
         "M"
        ],
        [
         "69",
         "70",
         "24",
         "2.9",
         "1",
         "M"
        ],
        [
         "71",
         "72",
         "29",
         "3.7",
         "2",
         "F"
        ],
        [
         "72",
         "73",
         "22",
         "3.5",
         "3",
         "F"
        ],
        [
         "77",
         "78",
         "21",
         "3.2",
         "2",
         "M"
        ],
        [
         "83",
         "84",
         "21",
         "3.0",
         "2",
         "M"
        ],
        [
         "86",
         "87",
         "22",
         "4.4",
         "2",
         "M"
        ],
        [
         "89",
         "90",
         "20",
         "4.0",
         "2",
         "M"
        ],
        [
         "94",
         "95",
         "22",
         "3.1",
         "2",
         "M"
        ]
       ],
       "shape": {
        "columns": 5,
        "rows": 26
       }
      },
      "text/html": [
       "<div>\n",
       "<style scoped>\n",
       "    .dataframe tbody tr th:only-of-type {\n",
       "        vertical-align: middle;\n",
       "    }\n",
       "\n",
       "    .dataframe tbody tr th {\n",
       "        vertical-align: top;\n",
       "    }\n",
       "\n",
       "    .dataframe thead th {\n",
       "        text-align: right;\n",
       "    }\n",
       "</style>\n",
       "<table border=\"1\" class=\"dataframe\">\n",
       "  <thead>\n",
       "    <tr style=\"text-align: right;\">\n",
       "      <th></th>\n",
       "      <th>usuario_id</th>\n",
       "      <th>idade</th>\n",
       "      <th>tempo_medio_diario</th>\n",
       "      <th>num_dispositivos</th>\n",
       "      <th>genero</th>\n",
       "    </tr>\n",
       "  </thead>\n",
       "  <tbody>\n",
       "    <tr>\n",
       "      <th>4</th>\n",
       "      <td>5</td>\n",
       "      <td>20</td>\n",
       "      <td>3.3</td>\n",
       "      <td>1</td>\n",
       "      <td>M</td>\n",
       "    </tr>\n",
       "    <tr>\n",
       "      <th>8</th>\n",
       "      <td>9</td>\n",
       "      <td>18</td>\n",
       "      <td>3.0</td>\n",
       "      <td>2</td>\n",
       "      <td>M</td>\n",
       "    </tr>\n",
       "    <tr>\n",
       "      <th>11</th>\n",
       "      <td>12</td>\n",
       "      <td>24</td>\n",
       "      <td>3.0</td>\n",
       "      <td>3</td>\n",
       "      <td>F</td>\n",
       "    </tr>\n",
       "    <tr>\n",
       "      <th>22</th>\n",
       "      <td>23</td>\n",
       "      <td>28</td>\n",
       "      <td>2.6</td>\n",
       "      <td>1</td>\n",
       "      <td>M</td>\n",
       "    </tr>\n",
       "    <tr>\n",
       "      <th>25</th>\n",
       "      <td>26</td>\n",
       "      <td>21</td>\n",
       "      <td>3.6</td>\n",
       "      <td>3</td>\n",
       "      <td>M</td>\n",
       "    </tr>\n",
       "    <tr>\n",
       "      <th>30</th>\n",
       "      <td>31</td>\n",
       "      <td>26</td>\n",
       "      <td>2.0</td>\n",
       "      <td>3</td>\n",
       "      <td>M</td>\n",
       "    </tr>\n",
       "    <tr>\n",
       "      <th>33</th>\n",
       "      <td>34</td>\n",
       "      <td>26</td>\n",
       "      <td>1.7</td>\n",
       "      <td>1</td>\n",
       "      <td>F</td>\n",
       "    </tr>\n",
       "    <tr>\n",
       "      <th>34</th>\n",
       "      <td>35</td>\n",
       "      <td>21</td>\n",
       "      <td>4.3</td>\n",
       "      <td>1</td>\n",
       "      <td>M</td>\n",
       "    </tr>\n",
       "    <tr>\n",
       "      <th>35</th>\n",
       "      <td>36</td>\n",
       "      <td>28</td>\n",
       "      <td>1.5</td>\n",
       "      <td>2</td>\n",
       "      <td>F</td>\n",
       "    </tr>\n",
       "    <tr>\n",
       "      <th>38</th>\n",
       "      <td>39</td>\n",
       "      <td>18</td>\n",
       "      <td>2.2</td>\n",
       "      <td>2</td>\n",
       "      <td>M</td>\n",
       "    </tr>\n",
       "    <tr>\n",
       "      <th>41</th>\n",
       "      <td>42</td>\n",
       "      <td>28</td>\n",
       "      <td>2.6</td>\n",
       "      <td>1</td>\n",
       "      <td>F</td>\n",
       "    </tr>\n",
       "    <tr>\n",
       "      <th>43</th>\n",
       "      <td>44</td>\n",
       "      <td>29</td>\n",
       "      <td>2.3</td>\n",
       "      <td>3</td>\n",
       "      <td>M</td>\n",
       "    </tr>\n",
       "    <tr>\n",
       "      <th>45</th>\n",
       "      <td>46</td>\n",
       "      <td>28</td>\n",
       "      <td>1.9</td>\n",
       "      <td>2</td>\n",
       "      <td>M</td>\n",
       "    </tr>\n",
       "    <tr>\n",
       "      <th>58</th>\n",
       "      <td>59</td>\n",
       "      <td>18</td>\n",
       "      <td>3.8</td>\n",
       "      <td>3</td>\n",
       "      <td>M</td>\n",
       "    </tr>\n",
       "    <tr>\n",
       "      <th>59</th>\n",
       "      <td>60</td>\n",
       "      <td>21</td>\n",
       "      <td>4.5</td>\n",
       "      <td>1</td>\n",
       "      <td>M</td>\n",
       "    </tr>\n",
       "    <tr>\n",
       "      <th>60</th>\n",
       "      <td>61</td>\n",
       "      <td>20</td>\n",
       "      <td>3.0</td>\n",
       "      <td>1</td>\n",
       "      <td>F</td>\n",
       "    </tr>\n",
       "    <tr>\n",
       "      <th>65</th>\n",
       "      <td>66</td>\n",
       "      <td>24</td>\n",
       "      <td>4.9</td>\n",
       "      <td>2</td>\n",
       "      <td>F</td>\n",
       "    </tr>\n",
       "    <tr>\n",
       "      <th>67</th>\n",
       "      <td>68</td>\n",
       "      <td>21</td>\n",
       "      <td>4.5</td>\n",
       "      <td>1</td>\n",
       "      <td>M</td>\n",
       "    </tr>\n",
       "    <tr>\n",
       "      <th>69</th>\n",
       "      <td>70</td>\n",
       "      <td>24</td>\n",
       "      <td>2.9</td>\n",
       "      <td>1</td>\n",
       "      <td>M</td>\n",
       "    </tr>\n",
       "    <tr>\n",
       "      <th>71</th>\n",
       "      <td>72</td>\n",
       "      <td>29</td>\n",
       "      <td>3.7</td>\n",
       "      <td>2</td>\n",
       "      <td>F</td>\n",
       "    </tr>\n",
       "    <tr>\n",
       "      <th>72</th>\n",
       "      <td>73</td>\n",
       "      <td>22</td>\n",
       "      <td>3.5</td>\n",
       "      <td>3</td>\n",
       "      <td>F</td>\n",
       "    </tr>\n",
       "    <tr>\n",
       "      <th>77</th>\n",
       "      <td>78</td>\n",
       "      <td>21</td>\n",
       "      <td>3.2</td>\n",
       "      <td>2</td>\n",
       "      <td>M</td>\n",
       "    </tr>\n",
       "    <tr>\n",
       "      <th>83</th>\n",
       "      <td>84</td>\n",
       "      <td>21</td>\n",
       "      <td>3.0</td>\n",
       "      <td>2</td>\n",
       "      <td>M</td>\n",
       "    </tr>\n",
       "    <tr>\n",
       "      <th>86</th>\n",
       "      <td>87</td>\n",
       "      <td>22</td>\n",
       "      <td>4.4</td>\n",
       "      <td>2</td>\n",
       "      <td>M</td>\n",
       "    </tr>\n",
       "    <tr>\n",
       "      <th>89</th>\n",
       "      <td>90</td>\n",
       "      <td>20</td>\n",
       "      <td>4.0</td>\n",
       "      <td>2</td>\n",
       "      <td>M</td>\n",
       "    </tr>\n",
       "    <tr>\n",
       "      <th>94</th>\n",
       "      <td>95</td>\n",
       "      <td>22</td>\n",
       "      <td>3.1</td>\n",
       "      <td>2</td>\n",
       "      <td>M</td>\n",
       "    </tr>\n",
       "  </tbody>\n",
       "</table>\n",
       "</div>"
      ],
      "text/plain": [
       "    usuario_id  idade  tempo_medio_diario  num_dispositivos genero\n",
       "4            5     20                 3.3                 1      M\n",
       "8            9     18                 3.0                 2      M\n",
       "11          12     24                 3.0                 3      F\n",
       "22          23     28                 2.6                 1      M\n",
       "25          26     21                 3.6                 3      M\n",
       "30          31     26                 2.0                 3      M\n",
       "33          34     26                 1.7                 1      F\n",
       "34          35     21                 4.3                 1      M\n",
       "35          36     28                 1.5                 2      F\n",
       "38          39     18                 2.2                 2      M\n",
       "41          42     28                 2.6                 1      F\n",
       "43          44     29                 2.3                 3      M\n",
       "45          46     28                 1.9                 2      M\n",
       "58          59     18                 3.8                 3      M\n",
       "59          60     21                 4.5                 1      M\n",
       "60          61     20                 3.0                 1      F\n",
       "65          66     24                 4.9                 2      F\n",
       "67          68     21                 4.5                 1      M\n",
       "69          70     24                 2.9                 1      M\n",
       "71          72     29                 3.7                 2      F\n",
       "72          73     22                 3.5                 3      F\n",
       "77          78     21                 3.2                 2      M\n",
       "83          84     21                 3.0                 2      M\n",
       "86          87     22                 4.4                 2      M\n",
       "89          90     20                 4.0                 2      M\n",
       "94          95     22                 3.1                 2      M"
      ]
     },
     "execution_count": 53,
     "metadata": {},
     "output_type": "execute_result"
    }
   ],
   "source": [
    "df_menos_30_anos = df[df[\"idade\"] < 30]\n",
    "df_menos_30_anos"
   ]
  },
  {
   "cell_type": "code",
   "execution_count": 54,
   "id": "fad50d72",
   "metadata": {},
   "outputs": [
    {
     "data": {
      "application/vnd.microsoft.datawrangler.viewer.v0+json": {
       "columns": [
        {
         "name": "index",
         "rawType": "object",
         "type": "string"
        },
        {
         "name": "usuario_id",
         "rawType": "float64",
         "type": "float"
        },
        {
         "name": "idade",
         "rawType": "float64",
         "type": "float"
        },
        {
         "name": "tempo_medio_diario",
         "rawType": "float64",
         "type": "float"
        },
        {
         "name": "num_dispositivos",
         "rawType": "float64",
         "type": "float"
        }
       ],
       "ref": "3038ce22-41ab-435e-aa39-7809cd44f8a7",
       "rows": [
        [
         "count",
         "26.0",
         "26.0",
         "26.0",
         "26.0"
        ],
        [
         "mean",
         "51.73076923076923",
         "23.076923076923077",
         "3.173076923076923",
         "1.8846153846153846"
        ],
        [
         "std",
         "25.985469312379475",
         "3.5880142354575675",
         "0.9267395285872692",
         "0.7656068482934607"
        ],
        [
         "min",
         "5.0",
         "18.0",
         "1.5",
         "1.0"
        ],
        [
         "25%",
         "34.25",
         "21.0",
         "2.6",
         "1.0"
        ],
        [
         "50%",
         "52.5",
         "22.0",
         "3.05",
         "2.0"
        ],
        [
         "75%",
         "71.5",
         "26.0",
         "3.775",
         "2.0"
        ],
        [
         "max",
         "95.0",
         "29.0",
         "4.9",
         "3.0"
        ]
       ],
       "shape": {
        "columns": 4,
        "rows": 8
       }
      },
      "text/html": [
       "<div>\n",
       "<style scoped>\n",
       "    .dataframe tbody tr th:only-of-type {\n",
       "        vertical-align: middle;\n",
       "    }\n",
       "\n",
       "    .dataframe tbody tr th {\n",
       "        vertical-align: top;\n",
       "    }\n",
       "\n",
       "    .dataframe thead th {\n",
       "        text-align: right;\n",
       "    }\n",
       "</style>\n",
       "<table border=\"1\" class=\"dataframe\">\n",
       "  <thead>\n",
       "    <tr style=\"text-align: right;\">\n",
       "      <th></th>\n",
       "      <th>usuario_id</th>\n",
       "      <th>idade</th>\n",
       "      <th>tempo_medio_diario</th>\n",
       "      <th>num_dispositivos</th>\n",
       "    </tr>\n",
       "  </thead>\n",
       "  <tbody>\n",
       "    <tr>\n",
       "      <th>count</th>\n",
       "      <td>26.000000</td>\n",
       "      <td>26.000000</td>\n",
       "      <td>26.000000</td>\n",
       "      <td>26.000000</td>\n",
       "    </tr>\n",
       "    <tr>\n",
       "      <th>mean</th>\n",
       "      <td>51.730769</td>\n",
       "      <td>23.076923</td>\n",
       "      <td>3.173077</td>\n",
       "      <td>1.884615</td>\n",
       "    </tr>\n",
       "    <tr>\n",
       "      <th>std</th>\n",
       "      <td>25.985469</td>\n",
       "      <td>3.588014</td>\n",
       "      <td>0.926740</td>\n",
       "      <td>0.765607</td>\n",
       "    </tr>\n",
       "    <tr>\n",
       "      <th>min</th>\n",
       "      <td>5.000000</td>\n",
       "      <td>18.000000</td>\n",
       "      <td>1.500000</td>\n",
       "      <td>1.000000</td>\n",
       "    </tr>\n",
       "    <tr>\n",
       "      <th>25%</th>\n",
       "      <td>34.250000</td>\n",
       "      <td>21.000000</td>\n",
       "      <td>2.600000</td>\n",
       "      <td>1.000000</td>\n",
       "    </tr>\n",
       "    <tr>\n",
       "      <th>50%</th>\n",
       "      <td>52.500000</td>\n",
       "      <td>22.000000</td>\n",
       "      <td>3.050000</td>\n",
       "      <td>2.000000</td>\n",
       "    </tr>\n",
       "    <tr>\n",
       "      <th>75%</th>\n",
       "      <td>71.500000</td>\n",
       "      <td>26.000000</td>\n",
       "      <td>3.775000</td>\n",
       "      <td>2.000000</td>\n",
       "    </tr>\n",
       "    <tr>\n",
       "      <th>max</th>\n",
       "      <td>95.000000</td>\n",
       "      <td>29.000000</td>\n",
       "      <td>4.900000</td>\n",
       "      <td>3.000000</td>\n",
       "    </tr>\n",
       "  </tbody>\n",
       "</table>\n",
       "</div>"
      ],
      "text/plain": [
       "       usuario_id      idade  tempo_medio_diario  num_dispositivos\n",
       "count   26.000000  26.000000           26.000000         26.000000\n",
       "mean    51.730769  23.076923            3.173077          1.884615\n",
       "std     25.985469   3.588014            0.926740          0.765607\n",
       "min      5.000000  18.000000            1.500000          1.000000\n",
       "25%     34.250000  21.000000            2.600000          1.000000\n",
       "50%     52.500000  22.000000            3.050000          2.000000\n",
       "75%     71.500000  26.000000            3.775000          2.000000\n",
       "max     95.000000  29.000000            4.900000          3.000000"
      ]
     },
     "execution_count": 54,
     "metadata": {},
     "output_type": "execute_result"
    }
   ],
   "source": [
    "df_menos_30_anos.describe()"
   ]
  },
  {
   "cell_type": "code",
   "execution_count": 55,
   "id": "6646e32a",
   "metadata": {},
   "outputs": [
    {
     "data": {
      "application/vnd.microsoft.datawrangler.viewer.v0+json": {
       "columns": [
        {
         "name": "index",
         "rawType": "int64",
         "type": "integer"
        },
        {
         "name": "usuario_id",
         "rawType": "int64",
         "type": "integer"
        },
        {
         "name": "idade",
         "rawType": "int64",
         "type": "integer"
        },
        {
         "name": "tempo_medio_diario",
         "rawType": "float64",
         "type": "float"
        },
        {
         "name": "num_dispositivos",
         "rawType": "int64",
         "type": "integer"
        },
        {
         "name": "genero",
         "rawType": "object",
         "type": "string"
        }
       ],
       "ref": "f668c01c-3978-4441-bf87-806227513d59",
       "rows": [
        [
         "0",
         "1",
         "58",
         "1.8",
         "1",
         "M"
        ],
        [
         "1",
         "2",
         "35",
         "2.4",
         "1",
         "M"
        ],
        [
         "2",
         "3",
         "65",
         "1.9",
         "2",
         "M"
        ],
        [
         "3",
         "4",
         "52",
         "2.4",
         "2",
         "M"
        ],
        [
         "5",
         "6",
         "32",
         "2.3",
         "2",
         "M"
        ],
        [
         "6",
         "7",
         "63",
         "2.4",
         "1",
         "F"
        ],
        [
         "7",
         "8",
         "55",
         "2.0",
         "2",
         "F"
        ],
        [
         "9",
         "10",
         "39",
         "2.9",
         "1",
         "F"
        ],
        [
         "10",
         "11",
         "39",
         "2.1",
         "1",
         "M"
        ],
        [
         "12",
         "13",
         "56",
         "1.6",
         "2",
         "F"
        ],
        [
         "13",
         "14",
         "64",
         "0.5",
         "2",
         "F"
        ],
        [
         "14",
         "15",
         "42",
         "0.5",
         "2",
         "M"
        ],
        [
         "15",
         "16",
         "58",
         "1.2",
         "2",
         "F"
        ],
        [
         "16",
         "17",
         "63",
         "0.9",
         "1",
         "M"
        ],
        [
         "17",
         "18",
         "32",
         "2.8",
         "3",
         "F"
        ],
        [
         "18",
         "19",
         "32",
         "1.8",
         "1",
         "M"
        ],
        [
         "19",
         "20",
         "47",
         "0.7",
         "1",
         "F"
        ],
        [
         "20",
         "21",
         "40",
         "3.7",
         "2",
         "M"
        ],
        [
         "21",
         "22",
         "62",
         "1.4",
         "2",
         "M"
        ],
        [
         "23",
         "24",
         "42",
         "0.6",
         "3",
         "F"
        ],
        [
         "24",
         "25",
         "58",
         "1.2",
         "2",
         "M"
        ],
        [
         "26",
         "27",
         "38",
         "1.6",
         "1",
         "F"
        ],
        [
         "27",
         "28",
         "31",
         "2.8",
         "1",
         "F"
        ],
        [
         "28",
         "29",
         "49",
         "1.1",
         "2",
         "F"
        ],
        [
         "29",
         "30",
         "59",
         "1.3",
         "1",
         "F"
        ],
        [
         "31",
         "32",
         "52",
         "2.6",
         "2",
         "F"
        ],
        [
         "32",
         "33",
         "45",
         "1.5",
         "1",
         "F"
        ],
        [
         "36",
         "37",
         "42",
         "1.6",
         "2",
         "F"
        ],
        [
         "37",
         "38",
         "47",
         "0.5",
         "3",
         "F"
        ],
        [
         "39",
         "40",
         "52",
         "1.6",
         "2",
         "F"
        ],
        [
         "40",
         "41",
         "39",
         "3.1",
         "1",
         "M"
        ],
        [
         "42",
         "43",
         "64",
         "1.4",
         "3",
         "F"
        ],
        [
         "44",
         "45",
         "37",
         "1.3",
         "1",
         "M"
        ],
        [
         "46",
         "47",
         "49",
         "1.2",
         "1",
         "M"
        ],
        [
         "47",
         "48",
         "41",
         "2.1",
         "1",
         "F"
        ],
        [
         "48",
         "49",
         "33",
         "2.8",
         "1",
         "M"
        ],
        [
         "49",
         "50",
         "49",
         "0.5",
         "3",
         "M"
        ],
        [
         "50",
         "51",
         "52",
         "1.7",
         "1",
         "M"
        ],
        [
         "51",
         "52",
         "48",
         "1.3",
         "1",
         "M"
        ],
        [
         "52",
         "53",
         "56",
         "1.1",
         "3",
         "F"
        ],
        [
         "53",
         "54",
         "52",
         "1.9",
         "2",
         "M"
        ],
        [
         "54",
         "55",
         "43",
         "2.1",
         "1",
         "F"
        ],
        [
         "55",
         "56",
         "51",
         "2.1",
         "1",
         "F"
        ],
        [
         "56",
         "57",
         "32",
         "1.8",
         "1",
         "M"
        ],
        [
         "57",
         "58",
         "55",
         "1.3",
         "2",
         "M"
        ],
        [
         "61",
         "62",
         "33",
         "2.4",
         "2",
         "F"
        ],
        [
         "62",
         "63",
         "31",
         "1.6",
         "2",
         "M"
        ],
        [
         "63",
         "64",
         "54",
         "0.8",
         "1",
         "F"
        ],
        [
         "64",
         "65",
         "48",
         "2.0",
         "1",
         "F"
        ],
        [
         "66",
         "67",
         "44",
         "1.5",
         "2",
         "F"
        ]
       ],
       "shape": {
        "columns": 5,
        "rows": 74
       }
      },
      "text/html": [
       "<div>\n",
       "<style scoped>\n",
       "    .dataframe tbody tr th:only-of-type {\n",
       "        vertical-align: middle;\n",
       "    }\n",
       "\n",
       "    .dataframe tbody tr th {\n",
       "        vertical-align: top;\n",
       "    }\n",
       "\n",
       "    .dataframe thead th {\n",
       "        text-align: right;\n",
       "    }\n",
       "</style>\n",
       "<table border=\"1\" class=\"dataframe\">\n",
       "  <thead>\n",
       "    <tr style=\"text-align: right;\">\n",
       "      <th></th>\n",
       "      <th>usuario_id</th>\n",
       "      <th>idade</th>\n",
       "      <th>tempo_medio_diario</th>\n",
       "      <th>num_dispositivos</th>\n",
       "      <th>genero</th>\n",
       "    </tr>\n",
       "  </thead>\n",
       "  <tbody>\n",
       "    <tr>\n",
       "      <th>0</th>\n",
       "      <td>1</td>\n",
       "      <td>58</td>\n",
       "      <td>1.8</td>\n",
       "      <td>1</td>\n",
       "      <td>M</td>\n",
       "    </tr>\n",
       "    <tr>\n",
       "      <th>1</th>\n",
       "      <td>2</td>\n",
       "      <td>35</td>\n",
       "      <td>2.4</td>\n",
       "      <td>1</td>\n",
       "      <td>M</td>\n",
       "    </tr>\n",
       "    <tr>\n",
       "      <th>2</th>\n",
       "      <td>3</td>\n",
       "      <td>65</td>\n",
       "      <td>1.9</td>\n",
       "      <td>2</td>\n",
       "      <td>M</td>\n",
       "    </tr>\n",
       "    <tr>\n",
       "      <th>3</th>\n",
       "      <td>4</td>\n",
       "      <td>52</td>\n",
       "      <td>2.4</td>\n",
       "      <td>2</td>\n",
       "      <td>M</td>\n",
       "    </tr>\n",
       "    <tr>\n",
       "      <th>5</th>\n",
       "      <td>6</td>\n",
       "      <td>32</td>\n",
       "      <td>2.3</td>\n",
       "      <td>2</td>\n",
       "      <td>M</td>\n",
       "    </tr>\n",
       "    <tr>\n",
       "      <th>...</th>\n",
       "      <td>...</td>\n",
       "      <td>...</td>\n",
       "      <td>...</td>\n",
       "      <td>...</td>\n",
       "      <td>...</td>\n",
       "    </tr>\n",
       "    <tr>\n",
       "      <th>95</th>\n",
       "      <td>96</td>\n",
       "      <td>54</td>\n",
       "      <td>0.6</td>\n",
       "      <td>1</td>\n",
       "      <td>M</td>\n",
       "    </tr>\n",
       "    <tr>\n",
       "      <th>96</th>\n",
       "      <td>97</td>\n",
       "      <td>31</td>\n",
       "      <td>2.7</td>\n",
       "      <td>1</td>\n",
       "      <td>F</td>\n",
       "    </tr>\n",
       "    <tr>\n",
       "      <th>97</th>\n",
       "      <td>98</td>\n",
       "      <td>40</td>\n",
       "      <td>2.7</td>\n",
       "      <td>2</td>\n",
       "      <td>M</td>\n",
       "    </tr>\n",
       "    <tr>\n",
       "      <th>98</th>\n",
       "      <td>99</td>\n",
       "      <td>41</td>\n",
       "      <td>1.5</td>\n",
       "      <td>1</td>\n",
       "      <td>F</td>\n",
       "    </tr>\n",
       "    <tr>\n",
       "      <th>99</th>\n",
       "      <td>100</td>\n",
       "      <td>52</td>\n",
       "      <td>1.4</td>\n",
       "      <td>2</td>\n",
       "      <td>F</td>\n",
       "    </tr>\n",
       "  </tbody>\n",
       "</table>\n",
       "<p>74 rows × 5 columns</p>\n",
       "</div>"
      ],
      "text/plain": [
       "    usuario_id  idade  tempo_medio_diario  num_dispositivos genero\n",
       "0            1     58                 1.8                 1      M\n",
       "1            2     35                 2.4                 1      M\n",
       "2            3     65                 1.9                 2      M\n",
       "3            4     52                 2.4                 2      M\n",
       "5            6     32                 2.3                 2      M\n",
       "..         ...    ...                 ...               ...    ...\n",
       "95          96     54                 0.6                 1      M\n",
       "96          97     31                 2.7                 1      F\n",
       "97          98     40                 2.7                 2      M\n",
       "98          99     41                 1.5                 1      F\n",
       "99         100     52                 1.4                 2      F\n",
       "\n",
       "[74 rows x 5 columns]"
      ]
     },
     "execution_count": 55,
     "metadata": {},
     "output_type": "execute_result"
    }
   ],
   "source": [
    "df_mais_30_anos = df[df[\"idade\"] >= 30]\n",
    "df_mais_30_anos"
   ]
  },
  {
   "cell_type": "code",
   "execution_count": 56,
   "id": "cdd1d7ed",
   "metadata": {},
   "outputs": [
    {
     "data": {
      "application/vnd.microsoft.datawrangler.viewer.v0+json": {
       "columns": [
        {
         "name": "index",
         "rawType": "object",
         "type": "string"
        },
        {
         "name": "usuario_id",
         "rawType": "float64",
         "type": "float"
        },
        {
         "name": "idade",
         "rawType": "float64",
         "type": "float"
        },
        {
         "name": "tempo_medio_diario",
         "rawType": "float64",
         "type": "float"
        },
        {
         "name": "num_dispositivos",
         "rawType": "float64",
         "type": "float"
        }
       ],
       "ref": "0488240a-e366-433e-a63c-015ad8caf193",
       "rows": [
        [
         "count",
         "74.0",
         "74.0",
         "74.0",
         "74.0"
        ],
        [
         "mean",
         "50.067567567567565",
         "46.986486486486484",
         "1.7405405405405403",
         "1.6486486486486487"
        ],
        [
         "std",
         "30.157273177611245",
         "10.023934703407193",
         "0.7671185936282048",
         "0.7106322177003835"
        ],
        [
         "min",
         "1.0",
         "31.0",
         "0.5",
         "1.0"
        ],
        [
         "25%",
         "22.5",
         "39.0",
         "1.2",
         "1.0"
        ],
        [
         "50%",
         "50.5",
         "48.0",
         "1.6",
         "2.0"
        ],
        [
         "75%",
         "76.75",
         "54.0",
         "2.375",
         "2.0"
        ],
        [
         "max",
         "100.0",
         "65.0",
         "3.7",
         "3.0"
        ]
       ],
       "shape": {
        "columns": 4,
        "rows": 8
       }
      },
      "text/html": [
       "<div>\n",
       "<style scoped>\n",
       "    .dataframe tbody tr th:only-of-type {\n",
       "        vertical-align: middle;\n",
       "    }\n",
       "\n",
       "    .dataframe tbody tr th {\n",
       "        vertical-align: top;\n",
       "    }\n",
       "\n",
       "    .dataframe thead th {\n",
       "        text-align: right;\n",
       "    }\n",
       "</style>\n",
       "<table border=\"1\" class=\"dataframe\">\n",
       "  <thead>\n",
       "    <tr style=\"text-align: right;\">\n",
       "      <th></th>\n",
       "      <th>usuario_id</th>\n",
       "      <th>idade</th>\n",
       "      <th>tempo_medio_diario</th>\n",
       "      <th>num_dispositivos</th>\n",
       "    </tr>\n",
       "  </thead>\n",
       "  <tbody>\n",
       "    <tr>\n",
       "      <th>count</th>\n",
       "      <td>74.000000</td>\n",
       "      <td>74.000000</td>\n",
       "      <td>74.000000</td>\n",
       "      <td>74.000000</td>\n",
       "    </tr>\n",
       "    <tr>\n",
       "      <th>mean</th>\n",
       "      <td>50.067568</td>\n",
       "      <td>46.986486</td>\n",
       "      <td>1.740541</td>\n",
       "      <td>1.648649</td>\n",
       "    </tr>\n",
       "    <tr>\n",
       "      <th>std</th>\n",
       "      <td>30.157273</td>\n",
       "      <td>10.023935</td>\n",
       "      <td>0.767119</td>\n",
       "      <td>0.710632</td>\n",
       "    </tr>\n",
       "    <tr>\n",
       "      <th>min</th>\n",
       "      <td>1.000000</td>\n",
       "      <td>31.000000</td>\n",
       "      <td>0.500000</td>\n",
       "      <td>1.000000</td>\n",
       "    </tr>\n",
       "    <tr>\n",
       "      <th>25%</th>\n",
       "      <td>22.500000</td>\n",
       "      <td>39.000000</td>\n",
       "      <td>1.200000</td>\n",
       "      <td>1.000000</td>\n",
       "    </tr>\n",
       "    <tr>\n",
       "      <th>50%</th>\n",
       "      <td>50.500000</td>\n",
       "      <td>48.000000</td>\n",
       "      <td>1.600000</td>\n",
       "      <td>2.000000</td>\n",
       "    </tr>\n",
       "    <tr>\n",
       "      <th>75%</th>\n",
       "      <td>76.750000</td>\n",
       "      <td>54.000000</td>\n",
       "      <td>2.375000</td>\n",
       "      <td>2.000000</td>\n",
       "    </tr>\n",
       "    <tr>\n",
       "      <th>max</th>\n",
       "      <td>100.000000</td>\n",
       "      <td>65.000000</td>\n",
       "      <td>3.700000</td>\n",
       "      <td>3.000000</td>\n",
       "    </tr>\n",
       "  </tbody>\n",
       "</table>\n",
       "</div>"
      ],
      "text/plain": [
       "       usuario_id      idade  tempo_medio_diario  num_dispositivos\n",
       "count   74.000000  74.000000           74.000000         74.000000\n",
       "mean    50.067568  46.986486            1.740541          1.648649\n",
       "std     30.157273  10.023935            0.767119          0.710632\n",
       "min      1.000000  31.000000            0.500000          1.000000\n",
       "25%     22.500000  39.000000            1.200000          1.000000\n",
       "50%     50.500000  48.000000            1.600000          2.000000\n",
       "75%     76.750000  54.000000            2.375000          2.000000\n",
       "max    100.000000  65.000000            3.700000          3.000000"
      ]
     },
     "execution_count": 56,
     "metadata": {},
     "output_type": "execute_result"
    }
   ],
   "source": [
    "df_mais_30_anos.describe()"
   ]
  },
  {
   "cell_type": "markdown",
   "id": "0b14caad",
   "metadata": {},
   "source": [
    "### Análise inicial\n",
    "\n",
    "- A base está bem enviesada a pessoas maiores de 30 anos (74 vs. 26 registros)\n",
    "- A média é maior que a mediana em ambos casos, o que demonstra que uma distribuição com assimetreia para direita.\n",
    "- A base de +30 possui fortes outliers (a partir do Q2) que puxam a média para cima."
   ]
  },
  {
   "cell_type": "code",
   "execution_count": 57,
   "id": "96e5cfb0",
   "metadata": {},
   "outputs": [
    {
     "data": {
      "image/png": "[encoded data removed]",
      "text/plain": [
       "<Figure size 1000x600 with 1 Axes>"
      ]
     },
     "metadata": {},
     "output_type": "display_data"
    }
   ],
   "source": [
    "# Boxplot para identificar outliers em tempo de medio diario\n",
    "plt.figure(figsize=(10, 6))\n",
    "sns.boxplot(data=df, y=\"tempo_medio_diario\", color=\"skyblue\")\n",
    "plt.title(\"Boxplot do Tempo Médio Diário\")\n",
    "plt.ylabel(\"Tempo Médio Diário (Horas)\")\n",
    "plt.xticks(rotation=45)\n",
    "plt.tight_layout()\n",
    "plt.show()"
   ]
  },
  {
   "cell_type": "code",
   "execution_count": 58,
   "id": "d2efe063",
   "metadata": {},
   "outputs": [
    {
     "data": {
      "image/png": "[encoded data removed]",
      "text/plain": [
       "<Figure size 600x400 with 1 Axes>"
      ]
     },
     "metadata": {},
     "output_type": "display_data"
    }
   ],
   "source": [
    "plt.figure(figsize=(6, 4))\n",
    "sns.histplot(df_menos_30_anos[\"tempo_medio_diario\"], bins=10, kde=True)\n",
    "plt.title(\"Distribuição de Tempo Médio Diário (-30 anos)\")\n",
    "plt.xlabel(\"Horas por dia\")\n",
    "plt.ylabel(\"Frequência\")\n",
    "plt.show()\n"
   ]
  },
  {
   "cell_type": "code",
   "execution_count": 59,
   "id": "d0a4eb2a",
   "metadata": {},
   "outputs": [
    {
     "name": "stdout",
     "output_type": "stream",
     "text": [
      "Outliers identificados:\n",
      "    usuario_id  idade  tempo_medio_diario  num_dispositivos genero\n",
      "65          66     24                 4.9                 2      F\n"
     ]
    }
   ],
   "source": [
    "# Identificando outliers com IQR\n",
    "Q1 = df[\"tempo_medio_diario\"].quantile(0.25)\n",
    "Q3 = df[\"tempo_medio_diario\"].quantile(0.75)\n",
    "IQR = Q3 - Q1\n",
    "lower_bound = Q1 - 1.5 * IQR\n",
    "upper_bound = Q3 + 1.5 * IQR\n",
    "outliers = df[(df[\"tempo_medio_diario\"] < lower_bound) | (df[\"tempo_medio_diario\"] > upper_bound)]\n",
    "print(\"Outliers identificados:\")\n",
    "print(outliers)"
   ]
  },
  {
   "cell_type": "code",
   "execution_count": 60,
   "id": "12287d15",
   "metadata": {},
   "outputs": [],
   "source": [
    "# Retirando outliers\n",
    "df = df.drop(outliers.index)"
   ]
  },
  {
   "cell_type": "code",
   "execution_count": 61,
   "id": "f6ec2e60",
   "metadata": {},
   "outputs": [
    {
     "data": {
      "image/png": "[encoded data removed]",
      "text/plain": [
       "<Figure size 600x400 with 1 Axes>"
      ]
     },
     "metadata": {},
     "output_type": "display_data"
    }
   ],
   "source": [
    "plt.figure(figsize=(6, 4))\n",
    "sns.histplot(df_mais_30_anos[\"tempo_medio_diario\"], bins=10, kde=True)\n",
    "plt.title(\"Distribuição de Tempo Médio Diário (+30 anos)\")\n",
    "plt.xlabel(\"Horas por dia\")\n",
    "plt.ylabel(\"Frequência\")\n",
    "plt.show()\n"
   ]
  },
  {
   "cell_type": "markdown",
   "id": "2c4f7475",
   "metadata": {},
   "source": [
    "# Etapa 3 – Correlação\n",
    "Objetivo: Avaliar relação entre variáveis\n",
    "1. Calcule a correlação entre:\n",
    "- idade × tempo_medio_diario\n",
    "- idade × num_dispositivos\n",
    "2. Gere um gráfico de dispersão com linha de tendência para cada relação."
   ]
  },
  {
   "cell_type": "code",
   "execution_count": null,
   "id": "b773a5fd",
   "metadata": {},
   "outputs": [
    {
     "data": {
      "image/png": "[encoded data removed]",
      "text/plain": [
       "<Figure size 900x600 with 1 Axes>"
      ]
     },
     "metadata": {},
     "output_type": "display_data"
    }
   ],
   "source": [
    "df_idade_tempo_medio = df[[\"idade\", \"tempo_medio_diario\"]]\n",
    "\n",
    "# Scatter plot com linha de tendência\n",
    "sns.lmplot(\n",
    "    data=df_idade_tempo_medio,\n",
    "    x=\"idade\",\n",
    "    y=\"tempo_medio_diario\",\n",
    "    height=6,\n",
    "    aspect=1.5,\n",
    "    scatter_kws={\"s\": 100, \"edgecolor\": \"black\", \"alpha\": 0.7},\n",
    ")\n",
    "plt.title(\"Relação entre Idade e Tempo Médio Diário de Celular\")\n",
    "plt.xlabel(\"Idade\")\n",
    "plt.ylabel(\"Tempo Médio Diário (Horas)\")\n",
    "plt.show()"
   ]
  },
  {
   "cell_type": "markdown",
   "id": "f994c967",
   "metadata": {},
   "source": [
    "Temos uma correlação inversa direta não tão forte, entre idade e tempo de tela "
   ]
  },
  {
   "cell_type": "code",
   "execution_count": 65,
   "id": "9e9f48bf",
   "metadata": {},
   "outputs": [
    {
     "data": {
      "image/png": "[encoded data removed]",
      "text/plain": [
       "<Figure size 900x600 with 1 Axes>"
      ]
     },
     "metadata": {},
     "output_type": "display_data"
    }
   ],
   "source": [
    "df_idade_num_dispositivos = df[[\"idade\", \"num_dispositivos\"]]\n",
    "\n",
    "# Scatter plot com linha de tendência\n",
    "sns.lmplot(\n",
    "    data=df_idade_num_dispositivos,\n",
    "    x=\"idade\",\n",
    "    y=\"num_dispositivos\",\n",
    "    height=6,\n",
    "    aspect=1.5,\n",
    "    scatter_kws={\"s\": 100, \"edgecolor\": \"black\", \"alpha\": 0.7},\n",
    ")\n",
    "plt.title(\"Relação entre Idade e Número de Dispositivos\")\n",
    "plt.xlabel(\"Idade\")\n",
    "plt.ylabel(\"Número de Dispositivos\")\n",
    "plt.show()\n"
   ]
  },
  {
   "cell_type": "markdown",
   "id": "72fa8b5e",
   "metadata": {},
   "source": [
    "Não há uma relação clara entre número de dispositivo e a idade"
   ]
  },
  {
   "cell_type": "markdown",
   "id": "8be62c76",
   "metadata": {},
   "source": [
    "# Etapa 4 – Inferência e conclusão\n",
    "Objetivo: Interpretar os dados e comunicar descobertas\n",
    "1. Interprete os sinais e a força das correlações.\n",
    "2. Indique se é possível inferir algum comportamento.\n",
    "3. Sugira uma ação para a equipe de produto com base nos dados.\n"
   ]
  },
  {
   "cell_type": "markdown",
   "id": "813afd4e",
   "metadata": {},
   "source": [
    "1. Há uma forte relação inversa entre a idade e o tempo de tela, quanto maior a idade, menor o tempo de tela. Não há uma relação clara entre a idade e a quantidade de dispositivos, mas a média é de aproximadamente de 1.75 por indivíduo\n",
    "\n",
    "2. É possível inferir o comportamento de que pessoas mais novas tem mais tempo de tela, porém o uso de dispositivos é livre, então os dois públicos geralmente utilizam mais um dispositivo\n",
    "\n",
    "3. Produtos voltados para jovens pode ter uma duração maior, porém para públicos com mais idade não. Já em questão de dispositivos é mais disperso, e a margem segura para trabalho é a compatibilidade para no mínimo dois dispositivos."
   ]
  },
  {
   "cell_type": "markdown",
   "id": "446fdf3b",
   "metadata": {},
   "source": [
    "# Mini-Relatório\n",
    "1. Médias e desvios por variável:\n",
    "    Tempo de tela - Média: 2.1 - Desvio: 1.02\n",
    "    Núm. de dispositivos - Média: 1.7 - Desvio: 0.7\n",
    "\n",
    "2. O que descobrimos nas correlações:\n",
    "    Existe uma relação considerável entre a idade e o tempo de tela. Já na quantidade de disposivos utilizados é mais disperso, não há uma correlação tendenciosa.\n",
    "\n",
    "3. Diferenças entre jovens e adultos:\n",
    "   Citado no item 1 e 2.\n",
    "\n",
    "4. Sugestão para o time de produto:\n",
    "   Produtos voltados para jovens pode ter uma duração maior, porém para públicos com mais idade não. Já em questão de dispositivos é mais disperso, e a margem segura para trabalho é a compatibilidade para no mínimo dois dispositivos.\n",
    "\n",
    "5. Aprendizados sobre inferência estatística:\n",
    "    É interessante para a analisar comportamento de uma grande massa com base em amostras. Como os dados são numéricos é muito importante tomar cuidado na interpretação dos dados e gráficos, e se feito da forma correta ataca as incertezas e ajuda a cravar relações mais claras.\n",
    "\n"
   ]
  }
 ],
 "metadata": {
  "kernelspec": {
   "display_name": "Python 3",
   "language": "python",
   "name": "python3"
  },
  "language_info": {
   "codemirror_mode": {
    "name": "ipython",
    "version": 3
   },
   "file_extension": ".py",
   "mimetype": "text/x-python",
   "name": "python",
   "nbconvert_exporter": "python",
   "pygments_lexer": "ipython3",
   "version": "3.11.3"
  }
 },
 "nbformat": 4,
 "nbformat_minor": 5
}
